{
  "nbformat": 4,
  "nbformat_minor": 0,
  "metadata": {
    "kernelspec": {
      "display_name": "Python 3",
      "language": "python",
      "name": "python3"
    },
    "colab": {
      "name": "DQN_project_MVA.ipynb",
      "provenance": [],
      "collapsed_sections": []
    }
  },
  "cells": [
    {
      "cell_type": "markdown",
      "metadata": {
        "id": "wXwydaZfY7Uw",
        "colab_type": "text"
      },
      "source": [
        "**You may need to install [OpenCV](https://pypi.python.org/pypi/opencv-python) and [scikit-video](http://www.scikit-video.org/stable/).**"
      ]
    },
    {
      "cell_type": "code",
      "metadata": {
        "id": "w7R9EWTtZGae",
        "colab_type": "code",
        "colab": {
          "base_uri": "https://localhost:8080/",
          "height": 119
        },
        "outputId": "764fb8cb-61ee-4d19-ed34-32d5c95b4b82"
      },
      "source": [
        "!pip install opencv-contrib-python\n",
        "!sudo pip install scikit-video"
      ],
      "execution_count": 3,
      "outputs": [
        {
          "output_type": "stream",
          "text": [
            "Requirement already satisfied: opencv-contrib-python in /usr/local/lib/python3.6/dist-packages (4.1.2.30)\n",
            "Requirement already satisfied: numpy>=1.11.3 in /usr/local/lib/python3.6/dist-packages (from opencv-contrib-python) (1.17.5)\n",
            "Requirement already satisfied: scikit-video in /usr/local/lib/python3.6/dist-packages (1.1.11)\n",
            "Requirement already satisfied: scipy in /usr/local/lib/python3.6/dist-packages (from scikit-video) (1.4.1)\n",
            "Requirement already satisfied: pillow in /usr/local/lib/python3.6/dist-packages (from scikit-video) (6.2.2)\n",
            "Requirement already satisfied: numpy in /usr/local/lib/python3.6/dist-packages (from scikit-video) (1.17.5)\n"
          ],
          "name": "stdout"
        }
      ]
    },
    {
      "cell_type": "code",
      "metadata": {
        "id": "bHBVcqy_Y7Uy",
        "colab_type": "code",
        "colab": {}
      },
      "source": [
        "import tensorflow.keras\n",
        "import numpy as np\n",
        "import io\n",
        "import base64\n",
        "from IPython.display import HTML\n",
        "import skvideo.io\n",
        "import cv2\n",
        "import json\n",
        "\n",
        "from tensorflow.keras.models import Sequential,model_from_json\n",
        "from tensorflow.keras.layers import Dense\n",
        "from tensorflow.keras.optimizers import SGD, Adam\n",
        "\n",
        "from tensorflow.keras.layers import Conv2D, MaxPooling2D, Activation, AveragePooling2D,Reshape,BatchNormalization,Flatten"
      ],
      "execution_count": 0,
      "outputs": []
    },
    {
      "cell_type": "markdown",
      "metadata": {
        "id": "03T7j6htY7U3",
        "colab_type": "text"
      },
      "source": [
        "# MiniProject on Deep Reinforcement Learning"
      ]
    },
    {
      "cell_type": "markdown",
      "metadata": {
        "id": "9tzPhn6YY7U5",
        "colab_type": "text"
      },
      "source": [
        "__Notations__: $E_p$ is the expectation under probability $p$. Please justify each of your answer and widely comment your code."
      ]
    },
    {
      "cell_type": "markdown",
      "metadata": {
        "id": "NigbGo4RY7U6",
        "colab_type": "text"
      },
      "source": [
        "# Context"
      ]
    },
    {
      "cell_type": "markdown",
      "metadata": {
        "id": "HryufYWjY7U7",
        "colab_type": "text"
      },
      "source": [
        "In a reinforcement learning algorithm, we modelize each step $t$ as an action $a_t$ obtained from a state $s_t$, i.e. $\\{(a_{t},s_{t})_{t\\leq T}\\}$ having the Markov property. We consider a discount factor $\\gamma \\in [0,1]$ that ensures convergence. The goal is to find among all the policies $\\pi$, one that maximizes the expected reward:\n",
        "\n",
        "\\begin{equation*}\n",
        "R(\\pi)=\\sum_{t\\leq T}E_{p^{\\pi}}[\\gamma^t r(s_{t},a_{t})] \\> ,\n",
        "\\end{equation*}\n",
        "\n",
        "where: \n",
        "\\begin{equation*}p^{\\pi}(a_{0},a_{1},s_{1},...,a_{T},s_{T})=p(a_{0})\\prod_{t=1}^{T}\\pi(a_{t}|s_{t})p(s_{t+1}|s_{t},a_{t}) \\> .\n",
        "\\end{equation*}\n",
        "\n",
        "We note the $Q$-function:\n",
        "\n",
        "\\begin{equation*}Q^\\pi(s,a)=E_{p^{\\pi}}[\\sum_{t\\leq T}\\gamma^{t}r(s_{t},a_{t})|s_{0}=s,a_{0}=a] \\> .\n",
        "\\end{equation*}\n",
        "\n",
        "Thus, the optimal Q function is:\n",
        "\\begin{equation*}\n",
        "Q^*(s,a)=\\max_{\\pi}Q^\\pi(s,a) \\> .\n",
        "\\end{equation*}\n",
        "\n",
        "In this project, we will apply the deep reinforcement learning techniques to a simple game: an agent will have to learn from scratch a policy that will permit it maximizing a reward."
      ]
    },
    {
      "cell_type": "markdown",
      "metadata": {
        "id": "jO7s9Lk4Y7U9",
        "colab_type": "text"
      },
      "source": [
        "## The environment, the agent and the game"
      ]
    },
    {
      "cell_type": "markdown",
      "metadata": {
        "id": "qn9F-KseY7U-",
        "colab_type": "text"
      },
      "source": [
        "### The environment"
      ]
    },
    {
      "cell_type": "markdown",
      "metadata": {
        "id": "v2ufuVBDY7U_",
        "colab_type": "text"
      },
      "source": [
        "```Environment``` is an abstract class that represents the states, rewards, and actions to obtain the new state."
      ]
    },
    {
      "cell_type": "code",
      "metadata": {
        "id": "aVjIc81GY7VA",
        "colab_type": "code",
        "colab": {}
      },
      "source": [
        "class Environment(object):\n",
        "    def __init__(self):\n",
        "        pass\n",
        "\n",
        "    def act(self, act):\n",
        "        \"\"\"\n",
        "        One can act on the environment and obtain its reaction:\n",
        "        - the new state\n",
        "        - the reward of the new state\n",
        "        - should we continue the game?\n",
        "\n",
        "        :return: state, reward, game_over\n",
        "        \"\"\"\n",
        "        pass\n",
        "\n",
        "\n",
        "    def reset(self):\n",
        "        \"\"\"\n",
        "        Reinitialize the environment to a random state and returns\n",
        "        the original state\n",
        "\n",
        "        :return: state\n",
        "        \"\"\"\n",
        "        pass\n",
        "    \n",
        "    def draw(self):\n",
        "        \"\"\"\n",
        "        Visualize in the console or graphically the current state\n",
        "        \"\"\"\n",
        "        pass"
      ],
      "execution_count": 0,
      "outputs": []
    },
    {
      "cell_type": "markdown",
      "metadata": {
        "id": "dCV1G3QtY7VE",
        "colab_type": "text"
      },
      "source": [
        "The method ```act``` allows to act on the environment at a given state $s_t$ (stored internally), via action $a_t$. The method will return the new state $s_{t+1}$, the reward $r(s_{t},a_{t})$ and determines if $t\\leq T$ (*game_over*).\n",
        "\n",
        "The method ```reset``` simply reinitializes the environment to a random state $s_0$.\n",
        "\n",
        "The method ```draw``` displays the current state $s_t$ (this is useful to check the behavior of the Agent).\n",
        "\n",
        "We modelize $s_t$ as a tensor, while $a_t$ is an integer."
      ]
    },
    {
      "cell_type": "markdown",
      "metadata": {
        "id": "4eliHsRfY7VF",
        "colab_type": "text"
      },
      "source": [
        "### The Agent"
      ]
    },
    {
      "cell_type": "markdown",
      "metadata": {
        "id": "1lAt4koOY7VG",
        "colab_type": "text"
      },
      "source": [
        "The goal of the ```Agent``` is to interact with the ```Environment``` by proposing actions $a_t$ obtained from a given state $s_t$ to attempt to maximize its __reward__ $r(s_t,a_t)$. We propose the following abstract class:"
      ]
    },
    {
      "cell_type": "code",
      "metadata": {
        "id": "8fxgMweNY7VH",
        "colab_type": "code",
        "colab": {}
      },
      "source": [
        "class Agent(object):\n",
        "    def __init__(self, epsilon=0.1, n_action=4):\n",
        "        self.epsilon = epsilon\n",
        "        self.n_action = n_action\n",
        "    \n",
        "    def set_epsilon(self,e):\n",
        "        self.epsilon = e\n",
        "\n",
        "    def act(self,s,train=True):\n",
        "        \"\"\" This function should return the next action to do:\n",
        "        an integer between 0 and 4 (not included) with a random exploration of epsilon\"\"\"\n",
        "        if train:\n",
        "            if np.random.rand() <= self.epsilon:\n",
        "                a = np.random.randint(0, self.n_action, size=1)[0]\n",
        "            else:\n",
        "                a = self.learned_act(s)\n",
        "        else: # in some cases, this can improve the performance.. remove it if poor performances\n",
        "            a = self.learned_act(s)\n",
        "\n",
        "        return a\n",
        "\n",
        "    def learned_act(self,s):\n",
        "        \"\"\" Act via the policy of the agent, from a given state s\n",
        "        it proposes an action a\"\"\"\n",
        "        pass\n",
        "\n",
        "    def reinforce(self, s, n_s, a, r, game_over_):\n",
        "        \"\"\" This function is the core of the learning algorithm. \n",
        "        It takes as an input the current state s_, the next state n_s_\n",
        "        the action a_ used to move from s_ to n_s_ and the reward r_.\n",
        "        \n",
        "        Its goal is to learn a policy.\n",
        "        \"\"\"\n",
        "        pass\n",
        "\n",
        "    def save(self):\n",
        "        \"\"\" This function returns basic stats if applicable: the\n",
        "        loss and/or the model\"\"\"\n",
        "        pass\n",
        "\n",
        "    def load(self):\n",
        "        \"\"\" This function allows to restore a model\"\"\"\n",
        "        pass"
      ],
      "execution_count": 0,
      "outputs": []
    },
    {
      "cell_type": "markdown",
      "metadata": {
        "id": "AqllHQ-lY7VL",
        "colab_type": "text"
      },
      "source": [
        "***\n",
        "__Question 1__:\n",
        "Explain the function act. Why is ```epsilon``` essential?"
      ]
    },
    {
      "cell_type": "markdown",
      "metadata": {
        "id": "3n3PB-UOY7VM",
        "colab_type": "text"
      },
      "source": [
        "Given the current state, the funcion act returns the action the agent makes in the environment (After that, he will observe the next state and reward  from the environment). \n",
        "\n",
        "In the traininig phase, the agent choose either to explore the environment with a probability $\\epsilon$ by taking a random action, or to exploit what he has learned so far with a pobability of $1-\\epsilon$ (using greedy strategy for example). This is what is known by exploitation-exploration dilemma. Using this $\\epsilon$ allows the agent to discover more and new things about the environement  by giving a chance to all the actions to improve the way they are perceived so far and avoid getting stuck in taking some specific actions (these that were taken the most and that give the best rewards). In other words, $\\epsilon$ quantifies somehow how much to exploit and how much to explore the environmenet.\n",
        "\n",
        "During the test phase, the agent samples the best action based on what he has learned given the current state. \n"
      ]
    },
    {
      "cell_type": "markdown",
      "metadata": {
        "id": "lXgH1cNzY7VN",
        "colab_type": "text"
      },
      "source": [
        "***\n",
        "### The Game"
      ]
    },
    {
      "cell_type": "markdown",
      "metadata": {
        "id": "0IaBpPzzY7VO",
        "colab_type": "text"
      },
      "source": [
        "The ```Agent``` and the ```Environment``` work in an interlaced way as in the following (take some time to understand this code as it is the core of the project)\n",
        "\n",
        "```python\n",
        "\n",
        "epoch = 300\n",
        "env = Environment()\n",
        "agent = Agent()\n",
        "\n",
        "\n",
        "# Number of won games\n",
        "score = 0\n",
        "loss = 0\n",
        "\n",
        "\n",
        "for e in range(epoch):\n",
        "    # At each epoch, we restart to a fresh game and get the initial state\n",
        "    state = env.reset()\n",
        "    # This assumes that the games will end\n",
        "    game_over = False\n",
        "\n",
        "    win = 0\n",
        "    lose = 0\n",
        "    \n",
        "    while not game_over:\n",
        "        # The agent performs an action\n",
        "        action = agent.act(state)\n",
        "\n",
        "        # Apply an action to the environment, get the next state, the reward\n",
        "        # and if the games end\n",
        "        prev_state = state\n",
        "        state, reward, game_over = env.act(action)\n",
        "\n",
        "        # Update the counters\n",
        "        if reward > 0:\n",
        "            win = win + reward\n",
        "        if reward < 0:\n",
        "            lose = lose -reward\n",
        "\n",
        "        # Apply the reinforcement strategy\n",
        "        loss = agent.reinforce(prev_state, state,  action, reward, game_over)\n",
        "\n",
        "    # Save as a mp4\n",
        "    if e % 10 == 0:\n",
        "        env.draw(e)\n",
        "\n",
        "    # Update stats\n",
        "    score += win-lose\n",
        "\n",
        "    print(\"Epoch {:03d}/{:03d} | Loss {:.4f} | Win/lose count {}/{} ({})\"\n",
        "          .format(e, epoch, loss, win, lose, win-lose))\n",
        "    agent.save()\n",
        "```"
      ]
    },
    {
      "cell_type": "markdown",
      "metadata": {
        "id": "tC0RFv82Y7VQ",
        "colab_type": "text"
      },
      "source": [
        "# The game, *eat cheese*"
      ]
    },
    {
      "cell_type": "markdown",
      "metadata": {
        "id": "zZQTT1NEY7VR",
        "colab_type": "text"
      },
      "source": [
        "A rat runs on an island and tries to eat as much as possible. The island is subdivided into $N\\times N$ cells, in which there are cheese (+0.5) and poisonous cells (-1). The rat has a visibility of 2 cells (thus it can see $5^2$ cells). The rat is given a time $T$ to accumulate as much food as possible. It can perform 4 actions: going up, down, left, right. \n",
        "\n",
        "The goal is to code an agent to solve this task that will learn by trial and error. We propose the following environment:"
      ]
    },
    {
      "cell_type": "code",
      "metadata": {
        "id": "sJx4Pfh9Y7VS",
        "colab_type": "code",
        "colab": {}
      },
      "source": [
        "class Environment(object):\n",
        "    def __init__(self, grid_size=10, max_time=500, temperature=0.1):\n",
        "        grid_size = grid_size+4\n",
        "        self.grid_size = grid_size\n",
        "        self.max_time = max_time\n",
        "        self.temperature = temperature\n",
        "\n",
        "        #board on which one plays\n",
        "        self.board = np.zeros((grid_size,grid_size))\n",
        "        self.position = np.zeros((grid_size,grid_size))\n",
        "\n",
        "        # coordinate of the cat\n",
        "        self.x = 0\n",
        "        self.y = 1\n",
        "\n",
        "        # self time\n",
        "        self.t = 0\n",
        "\n",
        "        self.scale=16\n",
        "\n",
        "        self.to_draw = np.zeros((max_time+2, grid_size*self.scale, grid_size*self.scale, 3))\n",
        "\n",
        "\n",
        "    def draw(self,e):\n",
        "        skvideo.io.vwrite(str(e) + '.mp4', self.to_draw)\n",
        "\n",
        "    def get_frame(self,t):\n",
        "        b = np.zeros((self.grid_size,self.grid_size,3))+128\n",
        "        b[self.board>0,0] = 256\n",
        "        b[self.board < 0, 2] = 256\n",
        "        b[self.x,self.y,:]=256\n",
        "        b[-2:,:,:]=0\n",
        "        b[:,-2:,:]=0\n",
        "        b[:2,:,:]=0\n",
        "        b[:,:2,:]=0\n",
        "        \n",
        "        b =  cv2.resize(b, None, fx=self.scale, fy=self.scale, interpolation=cv2.INTER_NEAREST)\n",
        "\n",
        "        self.to_draw[t,:,:,:]=b\n",
        "\n",
        "\n",
        "    def act(self, action):\n",
        "        \"\"\"This function returns the new state, reward and decides if the\n",
        "        game ends.\"\"\"\n",
        "\n",
        "        self.get_frame(int(self.t))\n",
        "\n",
        "        self.position = np.zeros((self.grid_size, self.grid_size))\n",
        "\n",
        "        self.position[0:2,:]= -1\n",
        "        self.position[:,0:2] = -1\n",
        "        self.position[-2:, :] = -1\n",
        "        self.position[-2:, :] = -1\n",
        "\n",
        "        self.position[self.x, self.y] = 1\n",
        "        if action == 0:\n",
        "            if self.x == self.grid_size-3:\n",
        "                self.x = self.x-1\n",
        "            else:\n",
        "                self.x = self.x + 1\n",
        "        elif action == 1:\n",
        "            if self.x == 2:\n",
        "                self.x = self.x+1\n",
        "            else:\n",
        "                self.x = self.x-1\n",
        "        elif action == 2:\n",
        "            if self.y == self.grid_size - 3:\n",
        "                self.y = self.y - 1\n",
        "            else:\n",
        "                self.y = self.y + 1\n",
        "        elif action == 3:\n",
        "            if self.y == 2:\n",
        "                self.y = self.y + 1\n",
        "            else:\n",
        "                self.y = self.y - 1\n",
        "        else:\n",
        "            RuntimeError('Error: action not recognized')\n",
        "\n",
        "        self.t = self.t + 1\n",
        "        reward = self.board[self.x, self.y]\n",
        "        self.board[self.x, self.y] = 0\n",
        "        game_over = self.t > self.max_time\n",
        "        state = np.concatenate((self.board.reshape(self.grid_size, self.grid_size,1),\n",
        "                        self.position.reshape(self.grid_size, self.grid_size,1)),axis=2)\n",
        "        state = state[self.x-2:self.x+3,self.y-2:self.y+3,:]\n",
        "\n",
        "        return state, reward, game_over\n",
        "\n",
        "    def reset(self):\n",
        "        \"\"\"This function resets the game and returns the initial state\"\"\"\n",
        "\n",
        "        self.x = np.random.randint(3, self.grid_size-3, size=1)[0]\n",
        "        self.y = np.random.randint(3, self.grid_size-3, size=1)[0]\n",
        "\n",
        "\n",
        "        bonus = 0.5*np.random.binomial(1,self.temperature,size=self.grid_size**2)\n",
        "        bonus = bonus.reshape(self.grid_size,self.grid_size)\n",
        "\n",
        "        malus = -1.0*np.random.binomial(1,self.temperature,size=self.grid_size**2)\n",
        "        malus = malus.reshape(self.grid_size, self.grid_size)\n",
        "\n",
        "        self.to_draw = np.zeros((self.max_time+2, self.grid_size*self.scale, self.grid_size*self.scale, 3))\n",
        "\n",
        "\n",
        "        malus[bonus>0]=0\n",
        "\n",
        "        self.board = bonus + malus\n",
        "\n",
        "        self.position = np.zeros((self.grid_size, self.grid_size))\n",
        "        self.position[0:2,:]= -1\n",
        "        self.position[:,0:2] = -1\n",
        "        self.position[-2:, :] = -1\n",
        "        self.position[-2:, :] = -1\n",
        "        self.board[self.x,self.y] = 0\n",
        "        self.t = 0\n",
        "\n",
        "        state = np.concatenate((\n",
        "                               self.board.reshape(self.grid_size, self.grid_size,1),\n",
        "                        self.position.reshape(self.grid_size, self.grid_size,1)),axis=2)\n",
        "\n",
        "        state = state[self.x - 2:self.x + 3, self.y - 2:self.y + 3, :]\n",
        "        return state"
      ],
      "execution_count": 0,
      "outputs": []
    },
    {
      "cell_type": "markdown",
      "metadata": {
        "id": "bh0RYFDgY7VV",
        "colab_type": "text"
      },
      "source": [
        "The following elements are important because they correspond to the hyper parameters for this project:"
      ]
    },
    {
      "cell_type": "code",
      "metadata": {
        "id": "Ydgqii3TY7VW",
        "colab_type": "code",
        "colab": {}
      },
      "source": [
        "# parameters\n",
        "size = 13\n",
        "T=200\n",
        "temperature=0.3\n",
        "epochs_train=50 # set small when debugging\n",
        "epochs_test=20 # set small when debugging\n",
        "\n",
        "# display videos\n",
        "def display_videos(name):\n",
        "    video = io.open(name, 'r+b').read()\n",
        "    encoded = base64.b64encode(video)\n",
        "    return '''<video alt=\"test\" controls>\n",
        "                <source src=\"data:video/mp4;base64,{0}\" type=\"video/mp4\" />\n",
        "             </video>'''.format(encoded.decode('ascii'))"
      ],
      "execution_count": 0,
      "outputs": []
    },
    {
      "cell_type": "markdown",
      "metadata": {
        "id": "V7SDH_JiY7Vc",
        "colab_type": "text"
      },
      "source": [
        "__Question 2__ Explain the use of the arrays ```position``` and ```board```."
      ]
    },
    {
      "cell_type": "markdown",
      "metadata": {
        "id": "H8Bbs1XuY7Vd",
        "colab_type": "text"
      },
      "source": [
        "position is an array of size $(grid\\_size \\times grid\\_size)$ that gives information about the position of the agent, where he cannot go (forbidden states) and the allowed states. The value is 1 where the rat is, $-1$ in the boundaries where we can't go ( $2\\times 2$ padding in the border of the grid ), and 0 everywhere else (allowed states). \n",
        "\n",
        "board is an array of size $(grid\\_size \\times grid\\_size)$ that defines the spatial distribution of the rewards on the grid. $board[x,y]$ represents the reward of getting in position (x,y). $board[x, y]=0$ if there's neither bonus nor malus in cell (x,y). It equals 0.5 if there's a cheese in the cell, -1 otherwise ( poisonous cell ). We set the reward to 0 if it is collected, i.e the state has already been visited ($\\to$ which means that board evolves over time). "
      ]
    },
    {
      "cell_type": "markdown",
      "metadata": {
        "id": "a32nyZCtY7Vd",
        "colab_type": "text"
      },
      "source": [
        "## Random Agent"
      ]
    },
    {
      "cell_type": "markdown",
      "metadata": {
        "id": "8VR6_GNSY7Ve",
        "colab_type": "text"
      },
      "source": [
        "***\n",
        "__Question 3__ Implement a random Agent (only ```learned_act``` needs to be implemented):"
      ]
    },
    {
      "cell_type": "code",
      "metadata": {
        "id": "zqE2qjHTY7Vf",
        "colab_type": "code",
        "colab": {}
      },
      "source": [
        "class RandomAgent(Agent):\n",
        "    def __init__(self):\n",
        "        super(RandomAgent, self).__init__()\n",
        "        pass\n",
        "\n",
        "    def learned_act(self, s):\n",
        "        return np.random.randint(self.n_action)"
      ],
      "execution_count": 0,
      "outputs": []
    },
    {
      "cell_type": "markdown",
      "metadata": {
        "id": "7KkRTE_8Y7Vj",
        "colab_type": "text"
      },
      "source": [
        "***\n",
        "***\n",
        "__Question 4__ Visualize the game moves. You need to fill in the following function for the evaluation:"
      ]
    },
    {
      "cell_type": "code",
      "metadata": {
        "id": "ILIShO8nY7Vk",
        "colab_type": "code",
        "colab": {}
      },
      "source": [
        "def test(agent,env,epochs,prefix=''):\n",
        "    # Number of won games\n",
        "    score = 0        \n",
        "    for e in range(epochs):\n",
        "        state = env.reset()\n",
        "        game_over = False  # True when the game will end\n",
        "        win = 0 \n",
        "        lose = 0\n",
        "        while not game_over :\n",
        "            # The agent takes an action\n",
        "            action = agent.act(state,train=False)\n",
        "            state, reward, game_over = env.act(action)    # observe the next state and reward\n",
        "            # positive reward : win ----- negative reward : loss. \n",
        "            if reward > 0 :\n",
        "                win += reward\n",
        "            else :\n",
        "                lose -= reward\n",
        "        # Save as a mp4\n",
        "        env.draw(prefix+str(e))\n",
        "\n",
        "        # Update stats\n",
        "        score = score + win-lose\n",
        "\n",
        "        print(\"Win/lose count {}/{}. Average score ({})\"\n",
        "              .format(win, lose, score/(1+e)))\n",
        "    print('Final score: '+str(score/epochs))"
      ],
      "execution_count": 0,
      "outputs": []
    },
    {
      "cell_type": "code",
      "metadata": {
        "id": "GExjk4y8Y7Vm",
        "colab_type": "code",
        "colab": {
          "base_uri": "https://localhost:8080/",
          "height": 650
        },
        "outputId": "0fdd989e-3838-4e60-dbde-6faa32d8afba"
      },
      "source": [
        "# Initialize the game\n",
        "env = Environment(grid_size=size, max_time=T,temperature=temperature)\n",
        "\n",
        "# Initialize the agent!\n",
        "agent = RandomAgent()\n",
        "\n",
        "test(agent,env,epochs_test,prefix='random')\n",
        "HTML(display_videos('random0.mp4'))"
      ],
      "execution_count": 11,
      "outputs": [
        {
          "output_type": "stream",
          "text": [
            "Win/lose count 11.5/13.0. Average score (-1.5)\n",
            "Win/lose count 6.5/15.0. Average score (-5.0)\n",
            "Win/lose count 10.5/18.0. Average score (-5.833333333333333)\n",
            "Win/lose count 7.5/15.0. Average score (-6.25)\n",
            "Win/lose count 8.0/11.0. Average score (-5.6)\n",
            "Win/lose count 10.0/12.0. Average score (-5.0)\n",
            "Win/lose count 12.0/22.0. Average score (-5.714285714285714)\n",
            "Win/lose count 11.5/16.0. Average score (-5.5625)\n",
            "Win/lose count 9.0/15.0. Average score (-5.611111111111111)\n",
            "Win/lose count 11.0/9.0. Average score (-4.85)\n",
            "Win/lose count 6.5/10.0. Average score (-4.7272727272727275)\n",
            "Win/lose count 14.5/14.0. Average score (-4.291666666666667)\n",
            "Win/lose count 9.5/12.0. Average score (-4.153846153846154)\n",
            "Win/lose count 10.5/17.0. Average score (-4.321428571428571)\n",
            "Win/lose count 11.5/13.0. Average score (-4.133333333333334)\n",
            "Win/lose count 11.5/18.0. Average score (-4.28125)\n",
            "Win/lose count 11.5/11.0. Average score (-4.0)\n",
            "Win/lose count 9.0/15.0. Average score (-4.111111111111111)\n",
            "Win/lose count 9.0/17.0. Average score (-4.315789473684211)\n",
            "Win/lose count 10.5/19.0. Average score (-4.525)\n",
            "Final score: -4.525\n"
          ],
          "name": "stdout"
        },
        {
          "output_type": "execute_result",
          "data": {
            "text/html": [
              "<video alt=\"test\" controls>\n",
              "                <source src=\"data:video/mp4;base64,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\" type=\"video/mp4\" />\n",
              "             </video>"
            ],
            "text/plain": [
              "<IPython.core.display.HTML object>"
            ]
          },
          "metadata": {
            "tags": []
          },
          "execution_count": 11
        }
      ]
    },
    {
      "cell_type": "markdown",
      "metadata": {
        "id": "KqiF4qGAY7Vq",
        "colab_type": "text"
      },
      "source": [
        "***\n",
        "## DQN"
      ]
    },
    {
      "cell_type": "markdown",
      "metadata": {
        "id": "08AKGs63Y7Vr",
        "colab_type": "text"
      },
      "source": [
        "Let us assume here that $T=\\infty$.\n",
        "\n",
        "***\n",
        "__Question 5__ Let $\\pi$ be a policy, show that:\n",
        "\n",
        "\\begin{equation*}\n",
        "Q^{\\pi}(s,a)=E_{(s',a')\\sim p(.|s,a)}[r(s,a)+\\gamma Q^{\\pi}(s',a')]\n",
        "\\end{equation*}\n",
        "\n",
        "Then, show that for the optimal policy $\\pi^*$ (we assume its existence), the following holds: \n",
        "\n",
        "\\begin{equation*}\n",
        "Q^{*}(s,a)=E_{s'\\sim \\pi^*(.|s,a)}[r(s,a)+\\gamma\\max_{a'}Q^{*}(s',a')].\n",
        "\\end{equation*}\n",
        "Finally, deduce that a plausible objective is:\n",
        "\n",
        "\\begin{equation*}\n",
        "\\mathcal{L}(\\theta)=E_{s' \\sim \\pi^*(.|s,a)}\\Vert r+\\gamma\\max\\max_{a'}Q(s',a',\\theta)-Q(s,a,\\theta)\\Vert^{2}.\n",
        "\\end{equation*}\n",
        "\n",
        "\n"
      ]
    },
    {
      "cell_type": "markdown",
      "metadata": {
        "id": "j151Dh4hY7Vt",
        "colab_type": "text"
      },
      "source": [
        "1. We have : \n",
        "\n",
        " $$\n",
        "\\begin{align*} \n",
        "Q^\\pi(s,a)&=E_{p^{\\pi}}[\\sum_{t=0}^{\\infty}\\gamma^{t}r(s_{t},a_{t})|s_{0}=s,a_{0}=a]\\\\\n",
        "          &=E_{p^{\\pi}}[r(s_0,a_0) + \\gamma\\sum_{t=1}^{\\infty}\\gamma^{t}r(s_{t},a_{t})|s_{0}=s,a_{0}=a]\\\\\n",
        "          &=r(s,a) + \\sum_{s'} p(s',a'|s,a) E_{p^{\\pi}}[\\sum_{t=1}^{\\infty}\\gamma^{t}r(s_{t},a_{t})|s_1 = s', a_1 = a', s_{0}=s,a_{0}=a]\\\\\n",
        "          &=r(s,a) + \\gamma \\sum_{s'} p(s',a'|s,a) E_{p^{\\pi}}[\\sum_{t=1}^{\\infty}\\gamma^{t-1}r(s_{t},a_{t})|s_1 = s', a_1 = a']  \\text{ $\\to$ (Markov property) } \\\\\n",
        "          &=r(s,a) + \\gamma \\sum_{s'} p(s',a'|s,a) Q^\\pi(s',a') \\\\\n",
        "          &=r(s,a) + \\gamma E_{(s',a')\\sim p(.|s,a)}( Q^\\pi(s',a')) \\\\\n",
        "          &=E_{(s',a')\\sim p(.|s,a)}\\left(r(s,a) + \\gamma Q^{\\pi}(s',a') \\right)\\\\\n",
        "\\end{align*}\n",
        "$$\n",
        "\n",
        "2. Let $\\pi^*$ be an optimal policy. Assume that $\\pi^*$ is deterministic (indeed if optimal policy exists, there is also a deterministic optimal policy).  Using the fact that $\\pi^*$ is optimal ($\\pi'$ such that $\\pi^*=(a, \\pi^{'})$ is optimal) , We have :\n",
        "\n",
        " $$\n",
        "\\begin{align*} \n",
        "Q^*(s,a)&= Q^{\\pi^*}(s,a) \\\\\n",
        "        &= \\max_{\\pi}E_{(s',a')\\sim p(.|s,a)}\\left(r(s,a) + \\gamma Q^{\\pi}(s',a') \\right)\\\\\n",
        "        &= \\max_{\\pi} E_{s'\\sim p(.|s,a), a' \\sim \\pi(.|s')}\\left(r(s,a) + \\gamma Q^{\\pi}(s',a') \\right)\\\\\n",
        "        &= E_{s'\\sim p(.|s,a), a' \\sim \\pi^*(.|s')}\\left(r(s,a) + \\gamma Q^{\\pi^*}(s',a') \\right) \\text{$\\to$ $\\pi'$ such that $\\pi^*=(a, \\pi^{'})$ is optimal}\\\\\n",
        "        & = E_{s'\\sim p(.|s,a)}\\left(r(s,a) + \\gamma \\max_{a'} Q^{\\pi^*}(s',a') \\right)\\text{ $\\to$ $\\pi^*$ is a determinitic policy } \\\\\n",
        "        & = E_{s'\\sim p(.|s,a)}\\left(r(s,a) + \\gamma \\max_{a'} Q^{*}(s',a') \\right)\n",
        "\\end{align*}\\\\       \n",
        "$$\n",
        "\n",
        "3. Let define the Bellman operator $T$ (which is contractant) such that: \n",
        " $$\n",
        "\\begin{align*}\n",
        "TQ(s,a) &=  E_{s'\\sim p(.|s,a)}[r(s,a)+\\gamma \\max_{a'}Q(s',a')] \\\\\n",
        "\\end{align*}\\\\       \n",
        "$$\n",
        "\n",
        "$Q^*$ verifies the equation $TQ = Q$. \n",
        "\n",
        "So one plausible objective is the one that will enforce our optimal Q-function to satisfy the bellman equation. \n",
        "\n",
        "Let parametrise Q by a parameter $\\theta$. We are looking to minimize the squared error loss $(Q^*(s,a)-Q_\\theta(s,a))^2$. However, $Q^*(s,a)$ is unknown, so we replace it at each step t by an estimate $y_t = TQ_{\\theta_{t-1}}$ such that : \n",
        "$TQ_{\\theta_{t-1}}(s,a) =  E_{s'\\sim p(.|s,a)}[r(s,a)+\\gamma \\max_{a'}Q_{\\theta_{t-1}}(s',a')]$. \n",
        "\n",
        "One plausible choice is to minimize the quantitiy : $E[(r(s,a) + \\gamma \\max_{a'}Q_{\\theta_{t-1}}(s',a') - Q_{\\theta_{t}}(s,a))^2]$. As we are working in a continuous setting ( DQN : using gradient descent to solve the problem), we can switch from the discret $\\theta_t$ to a continuous $\\theta$. \n",
        "\n",
        "Hence, we deduce that : \n",
        "\n",
        "\\begin{equation*}\n",
        "\\mathcal{L}(\\theta)=E_{s' \\sim \\pi^*(.|s,a)}\\Vert r+\\gamma\\max\\max_{a'}Q(s',a',\\theta)-Q(s,a,\\theta)\\Vert^{2}.\n",
        "\\end{equation*}\n",
        "\n",
        "is a plausible objective function for this task. "
      ]
    },
    {
      "cell_type": "markdown",
      "metadata": {
        "id": "NwL6-vAzY7Vu",
        "colab_type": "text"
      },
      "source": [
        "***\n",
        "The DQN-learning algorithm relies on these derivations to train the parameters $\\theta$ of a Deep Neural Network:\n",
        "\n",
        "1. At the state $s_t$, select the action $a_t$ with best reward using $Q_t$ and store the results;\n",
        "\n",
        "2. Obtain the new state $s_{t+1}$ from the environment $p$;\n",
        "\n",
        "3. Store $(s_t,a_t,s_{t+1})$;\n",
        "\n",
        "4. Obtain $Q_{t+1}$ by minimizing  $\\mathcal{L}$ from a recovered batch from the previously stored results.\n",
        "\n",
        "***\n",
        "__Question 6__ Implement the class ```Memory``` that stores moves (in a replay buffer) via ```remember``` and provides a ```random_access``` to these. Specify a maximum memory size to avoid side effects. You can for example use a ```list()``` and set by default ```max_memory=100```."
      ]
    },
    {
      "cell_type": "code",
      "metadata": {
        "id": "Y5JTnvxRY7Vu",
        "colab_type": "code",
        "colab": {}
      },
      "source": [
        "\"\"\"Here, I used a collections.deque as it can deal with max_memory by deleating the eldest element when \n",
        "            the max memory is reached and replacing it by the new arriving element. \"\"\"\n",
        "from collections import deque\n",
        "\n",
        "\n",
        "class Memory(object):\n",
        "    def __init__(self, max_memory=100):\n",
        "        self.max_memory = max_memory\n",
        "        self.memory = deque(maxlen = self.max_memory) \n",
        "\n",
        "    def remember(self, m):\n",
        "        self.memory.append(m)\n",
        "\n",
        "    def random_access(self):\n",
        "        random_idx = np.random.randint(len(self.memory))\n",
        "        return self.memory[random_idx]"
      ],
      "execution_count": 0,
      "outputs": []
    },
    {
      "cell_type": "markdown",
      "metadata": {
        "id": "kqTA6c9mY7V0",
        "colab_type": "text"
      },
      "source": [
        "***\n",
        "The pipeline we will use for training is given below:"
      ]
    },
    {
      "cell_type": "code",
      "metadata": {
        "id": "jRqxGTD4Y7V1",
        "colab_type": "code",
        "colab": {}
      },
      "source": [
        "def train(agent,env,epoch,prefix=''):\n",
        "    # Number of won games\n",
        "    score = 0\n",
        "    loss = 0\n",
        "\n",
        "    for e in range(epoch):\n",
        "        # At each epoch, we restart to a fresh game and get the initial state\n",
        "        state = env.reset()\n",
        "        # This assumes that the games will terminate\n",
        "        game_over = False\n",
        "\n",
        "        win = 0\n",
        "        lose = 0\n",
        "\n",
        "        while not game_over:\n",
        "            # The agent performs an action\n",
        "            action = agent.act(state)\n",
        "\n",
        "            # Apply an action to the environment, get the next state, the reward\n",
        "            # and if the games end\n",
        "            prev_state = state\n",
        "            state, reward, game_over = env.act(action)\n",
        "\n",
        "            # Update the counters\n",
        "            if reward > 0:\n",
        "                win = win + reward\n",
        "            if reward < 0:\n",
        "                lose = lose -reward\n",
        "\n",
        "            # Apply the reinforcement strategy\n",
        "            loss = agent.reinforce(prev_state, state,  action, reward, game_over)\n",
        "\n",
        "        # Save as a mp4\n",
        "        if e % 10 == 0:\n",
        "            env.draw(prefix+str(e))\n",
        "            \n",
        "        # Update stats\n",
        "        score += win-lose\n",
        "\n",
        "        print(\"Epoch {:03d}/{:03d} | Loss {:.4f} | Win/lose count {}/{} ({})\"\n",
        "              .format(e, epoch, loss, win, lose, win-lose))\n",
        "        agent.save(name_weights=prefix+'model.h5',name_model=prefix+'model.json')"
      ],
      "execution_count": 0,
      "outputs": []
    },
    {
      "cell_type": "markdown",
      "metadata": {
        "id": "6kOFaT1mY7V5",
        "colab_type": "text"
      },
      "source": [
        "***\n",
        "__Question 7__ Implement the DQN training algorithm using a cascade of fully connected layers. You can use different learning rate, batch size or memory size parameters. In particular, the loss might oscillate while the player will start to win the games. You have to find a good criterium."
      ]
    },
    {
      "cell_type": "code",
      "metadata": {
        "id": "glO8DVpzY7V7",
        "colab_type": "code",
        "colab": {}
      },
      "source": [
        "class DQN(Agent):\n",
        "    def __init__(self, grid_size,  epsilon = 0.1, memory_size=100, batch_size = 16,n_state=2):\n",
        "        super(DQN, self).__init__(epsilon = epsilon)\n",
        "\n",
        "        # Discount for Q learning\n",
        "        self.discount = 0.99\n",
        "        \n",
        "        self.grid_size = grid_size\n",
        "        \n",
        "        # number of state\n",
        "        self.n_state = n_state\n",
        "\n",
        "        # Memory\n",
        "        self.memory = Memory(memory_size)\n",
        "        \n",
        "        # Batch size when learning\n",
        "        self.batch_size = batch_size\n",
        "\n",
        "\n",
        "    def learned_act(self, s):\n",
        "        return np.argmax(self.model.predict(s[None]))\n",
        "    \n",
        "    \n",
        "    def reinforce(self, s_, n_s_, a_, r_, game_over_):\n",
        "        # Two steps: first memorize the states, second learn from the pool\n",
        "\n",
        "        self.memory.remember([s_, n_s_, a_, r_, game_over_])\n",
        "        \n",
        "        input_states = np.zeros((self.batch_size, 5,5,self.n_state))\n",
        "        target_q = np.zeros((self.batch_size, 4))\n",
        "        \n",
        "        for i in range(self.batch_size):\n",
        "            ######## FILL IN\n",
        "            s_, n_s_, a_, r_, game_over_ = self.memory.random_access()\n",
        "            \n",
        "            # store the sampled state from the replay buffer\n",
        "            input_states[i] = s_ \n",
        "            # Its associated Q-value\n",
        "            target_q[i] = self.model.predict(s_[None])\n",
        "            \n",
        "            if game_over_:\n",
        "                ######## FILL IN\n",
        "                target_q[i, a_] = r_\n",
        "            else:\n",
        "                ######## FILL IN\n",
        "                target_q[i, a_] = r_ + self.discount* np.max(self.model.predict(n_s_[None]), axis = 1)\n",
        "\n",
        "        ######## FILL IN\n",
        "        # HINT: Clip the target to avoid exploiding gradients.. -- clipping is a bit tighter\n",
        "        target_q = np.clip(target_q, -3, 3)\n",
        "        l = self.model.train_on_batch(input_states, target_q)\n",
        "        return l\n",
        "\n",
        "    def save(self,name_weights='model.h5',name_model='model.json'):\n",
        "        self.model.save_weights(name_weights, overwrite=True)\n",
        "        with open(name_model, \"w\") as outfile:\n",
        "            json.dump(self.model.to_json(), outfile)\n",
        "            \n",
        "    def load(self,name_weights='model.h5',name_model='model.json'):\n",
        "        with open(name_model, \"r\") as jfile:\n",
        "            model = model_from_json(json.load(jfile))\n",
        "        model.load_weights(name_weights)\n",
        "        model.compile(\"sgd\", \"mse\")\n",
        "        self.model = model\n",
        "\n",
        "class DQN_FC(DQN):\n",
        "    def __init__(self, *args, lr=0.1,**kwargs):\n",
        "        super(DQN_FC, self).__init__( *args,**kwargs)\n",
        "        \n",
        "        # NN Model\n",
        "        ####### FILL IN\n",
        "        model = Sequential()\n",
        "        model.add(Flatten(input_shape=(5, 5, self.n_state, )))\n",
        "        model.add(Dense(48,activation ='relu')) \n",
        "        model.add(Dense(4))\n",
        "        \n",
        "        \n",
        "        model.compile(SGD(lr=lr, decay=1e-4, momentum=0.0), \"mse\")\n",
        "        #model.compile(Adam(lr=lr, beta_1=0.9, beta_2=0.999, epsilon=None, decay=0.0, amsgrad=False), \"mse\")\n",
        "        self.model = model\n"
      ],
      "execution_count": 0,
      "outputs": []
    },
    {
      "cell_type": "code",
      "metadata": {
        "id": "hQPj1YKeY7V_",
        "colab_type": "code",
        "colab": {},
        "outputId": "e0213c82-ebb2-4520-c35a-4ff64bec14ae"
      },
      "source": [
        "env = Environment(grid_size=size, max_time=T, temperature=0.3)\n",
        "agent = DQN_FC(size, lr=.1, epsilon = 0.1, memory_size=2000, batch_size = 32)\n",
        "train(agent,env,epochs_train,prefix='fc_train')\n",
        "HTML(display_videos('cnn_train10.mp4'))"
      ],
      "execution_count": 0,
      "outputs": [
        {
          "output_type": "stream",
          "text": [
            "Epoch 000/050 | Loss 0.0028 | Win/lose count 3.5/4.0 (-0.5)\n",
            "Epoch 001/050 | Loss 0.0023 | Win/lose count 1.0/6.0 (-5.0)\n",
            "Epoch 002/050 | Loss 0.0067 | Win/lose count 3.5/4.0 (-0.5)\n",
            "Epoch 003/050 | Loss 0.0247 | Win/lose count 5.5/2.0 (3.5)\n",
            "Epoch 004/050 | Loss 0.0211 | Win/lose count 6.5/6.0 (0.5)\n",
            "Epoch 005/050 | Loss 0.0234 | Win/lose count 5.5/5.0 (0.5)\n",
            "Epoch 006/050 | Loss 0.0598 | Win/lose count 4.5/2.0 (2.5)\n",
            "Epoch 007/050 | Loss 0.0061 | Win/lose count 2.5/3.0 (-0.5)\n",
            "Epoch 008/050 | Loss 0.0078 | Win/lose count 1.5/2.0 (-0.5)\n",
            "Epoch 009/050 | Loss 0.0056 | Win/lose count 7.0/3.0 (4.0)\n",
            "Epoch 010/050 | Loss 0.0582 | Win/lose count 4.0/3.0 (1.0)\n",
            "Epoch 011/050 | Loss 0.0589 | Win/lose count 6.5/2.0 (4.5)\n",
            "Epoch 012/050 | Loss 0.0031 | Win/lose count 5.0/6.0 (-1.0)\n",
            "Epoch 013/050 | Loss 0.0045 | Win/lose count 7.0/1.0 (6.0)\n",
            "Epoch 014/050 | Loss 0.0052 | Win/lose count 7.0/6.0 (1.0)\n",
            "Epoch 015/050 | Loss 0.0127 | Win/lose count 4.5/5.0 (-0.5)\n",
            "Epoch 016/050 | Loss 0.0070 | Win/lose count 11.5/4.0 (7.5)\n",
            "Epoch 017/050 | Loss 0.0054 | Win/lose count 3.5/4.0 (-0.5)\n",
            "Epoch 018/050 | Loss 0.0892 | Win/lose count 8.0/4.0 (4.0)\n",
            "Epoch 019/050 | Loss 0.0103 | Win/lose count 5.5/1.0 (4.5)\n",
            "Epoch 020/050 | Loss 0.0029 | Win/lose count 3.5/2.0 (1.5)\n",
            "Epoch 021/050 | Loss 0.0024 | Win/lose count 17.5/3.0 (14.5)\n",
            "Epoch 022/050 | Loss 0.0073 | Win/lose count 3.0/8.0 (-5.0)\n",
            "Epoch 023/050 | Loss 0.0056 | Win/lose count 14.5/2.0 (12.5)\n",
            "Epoch 024/050 | Loss 0.0044 | Win/lose count 11.5/4.0 (7.5)\n",
            "Epoch 025/050 | Loss 0.0039 | Win/lose count 13.5/5.0 (8.5)\n",
            "Epoch 026/050 | Loss 0.0031 | Win/lose count 13.0/1.0 (12.0)\n",
            "Epoch 027/050 | Loss 0.0042 | Win/lose count 3.5/5.0 (-1.5)\n",
            "Epoch 028/050 | Loss 0.0053 | Win/lose count 11.5/3.0 (8.5)\n",
            "Epoch 029/050 | Loss 0.0059 | Win/lose count 8.0/2.0 (6.0)\n",
            "Epoch 030/050 | Loss 0.0072 | Win/lose count 9.5/2.0 (7.5)\n",
            "Epoch 031/050 | Loss 0.0076 | Win/lose count 13.5/4.0 (9.5)\n",
            "Epoch 032/050 | Loss 0.0552 | Win/lose count 12.0/4.0 (8.0)\n",
            "Epoch 033/050 | Loss 0.0032 | Win/lose count 10.0/5.0 (5.0)\n",
            "Epoch 034/050 | Loss 0.0009 | Win/lose count 8.5/1.0 (7.5)\n",
            "Epoch 035/050 | Loss 0.0063 | Win/lose count 3.0/5.0 (-2.0)\n",
            "Epoch 036/050 | Loss 0.0069 | Win/lose count 8.0/5.0 (3.0)\n",
            "Epoch 037/050 | Loss 0.0515 | Win/lose count 11.0/0 (11.0)\n",
            "Epoch 038/050 | Loss 0.0579 | Win/lose count 9.5/3.0 (6.5)\n",
            "Epoch 039/050 | Loss 0.0066 | Win/lose count 8.0/3.0 (5.0)\n",
            "Epoch 040/050 | Loss 0.0080 | Win/lose count 7.5/1.0 (6.5)\n",
            "Epoch 041/050 | Loss 0.0530 | Win/lose count 10.0/2.0 (8.0)\n",
            "Epoch 042/050 | Loss 0.0531 | Win/lose count 15.0/1.0 (14.0)\n",
            "Epoch 043/050 | Loss 0.0033 | Win/lose count 6.5/5.0 (1.5)\n",
            "Epoch 044/050 | Loss 0.0024 | Win/lose count 12.5/3.0 (9.5)\n",
            "Epoch 045/050 | Loss 0.0016 | Win/lose count 9.0/3.0 (6.0)\n",
            "Epoch 046/050 | Loss 0.0014 | Win/lose count 16.5/3.0 (13.5)\n",
            "Epoch 047/050 | Loss 0.0492 | Win/lose count 10.5/3.0 (7.5)\n",
            "Epoch 048/050 | Loss 0.0110 | Win/lose count 5.5/4.0 (1.5)\n",
            "Epoch 049/050 | Loss 0.0547 | Win/lose count 4.5/2.0 (2.5)\n"
          ],
          "name": "stdout"
        }
      ]
    },
    {
      "cell_type": "markdown",
      "metadata": {
        "id": "3atUmzlzY7WD",
        "colab_type": "text"
      },
      "source": [
        "***\n",
        "***\n",
        "__Question 8__ Implement the DQN training algorithm using a CNN (for example, 2 convolutional layers and one final fully connected layer)."
      ]
    },
    {
      "cell_type": "code",
      "metadata": {
        "id": "hfu-MvrJY7WE",
        "colab_type": "code",
        "colab": {}
      },
      "source": [
        "class DQN_CNN(DQN):\n",
        "    def __init__(self, *args,lr=0.1,**kwargs):\n",
        "        super(DQN_CNN, self).__init__(*args,**kwargs)\n",
        "        \n",
        "        ###### FILL IN\n",
        "        model = Sequential()\n",
        "        model.add(Conv2D(64,(2,2),input_shape=(5,5,self.n_state,),activation='relu'))\n",
        "        model.add(Conv2D(32,(2,2),activation='relu'))\n",
        "        model.add(Flatten())\n",
        "        model.add(Dense(units = 4))\n",
        "        \n",
        "        model.compile(SGD(lr=lr, decay=1e-4, momentum=0.0), \"mse\")\n",
        "        self.model = model"
      ],
      "execution_count": 0,
      "outputs": []
    },
    {
      "cell_type": "code",
      "metadata": {
        "id": "Y49CZJvCY7WH",
        "colab_type": "code",
        "colab": {},
        "outputId": "4269c8a5-89e9-4550-d455-e70278180edf"
      },
      "source": [
        "env = Environment(grid_size=size, max_time=T, temperature=0.3)\n",
        "agent = DQN_CNN(size, lr=.1, epsilon = 0.1, memory_size=2000, batch_size = 32)\n",
        "train(agent,env,epochs_train,prefix='cnn_train')\n",
        "HTML(display_videos('cnn_train10.mp4'))"
      ],
      "execution_count": 0,
      "outputs": [
        {
          "output_type": "stream",
          "text": [
            "Epoch 000/050 | Loss 0.0008 | Win/lose count 1.5/4.0 (-2.5)\n",
            "Epoch 001/050 | Loss 0.0001 | Win/lose count 1.0/1.0 (0.0)\n",
            "Epoch 002/050 | Loss 0.0010 | Win/lose count 2.0/7.0 (-5.0)\n",
            "Epoch 003/050 | Loss 0.0014 | Win/lose count 2.0/1.0 (1.0)\n",
            "Epoch 004/050 | Loss 0.0065 | Win/lose count 6.5/4.0 (2.5)\n",
            "Epoch 005/050 | Loss 0.0047 | Win/lose count 7.0/3.0 (4.0)\n",
            "Epoch 006/050 | Loss 0.0102 | Win/lose count 6.5/8.0 (-1.5)\n",
            "Epoch 007/050 | Loss 0.0029 | Win/lose count 9.0/0 (9.0)\n",
            "Epoch 008/050 | Loss 0.0017 | Win/lose count 9.5/3.0 (6.5)\n",
            "Epoch 009/050 | Loss 0.0060 | Win/lose count 5.5/4.0 (1.5)\n",
            "Epoch 010/050 | Loss 0.0059 | Win/lose count 7.5/1.0 (6.5)\n",
            "Epoch 011/050 | Loss 0.0016 | Win/lose count 3.5/0 (3.5)\n",
            "Epoch 012/050 | Loss 0.0017 | Win/lose count 11.0/3.0 (8.0)\n",
            "Epoch 013/050 | Loss 0.0020 | Win/lose count 8.0/1.0 (7.0)\n",
            "Epoch 014/050 | Loss 0.0046 | Win/lose count 15.0/3.0 (12.0)\n",
            "Epoch 015/050 | Loss 0.0019 | Win/lose count 8.5/1.0 (7.5)\n",
            "Epoch 016/050 | Loss 0.0539 | Win/lose count 15.5/5.0 (10.5)\n",
            "Epoch 017/050 | Loss 0.0008 | Win/lose count 15.5/0 (15.5)\n",
            "Epoch 018/050 | Loss 0.0015 | Win/lose count 21.5/1.0 (20.5)\n",
            "Epoch 019/050 | Loss 0.0014 | Win/lose count 26.5/3.0 (23.5)\n",
            "Epoch 020/050 | Loss 0.0015 | Win/lose count 10.0/3.0 (7.0)\n",
            "Epoch 021/050 | Loss 0.0021 | Win/lose count 6.5/2.0 (4.5)\n",
            "Epoch 022/050 | Loss 0.0021 | Win/lose count 10.0/5.0 (5.0)\n",
            "Epoch 023/050 | Loss 0.0018 | Win/lose count 18.0/7.0 (11.0)\n",
            "Epoch 024/050 | Loss 0.0033 | Win/lose count 15.0/3.0 (12.0)\n",
            "Epoch 025/050 | Loss 0.0049 | Win/lose count 9.5/0 (9.5)\n",
            "Epoch 026/050 | Loss 0.0014 | Win/lose count 14.5/6.0 (8.5)\n",
            "Epoch 027/050 | Loss 0.0586 | Win/lose count 5.0/2.0 (3.0)\n",
            "Epoch 028/050 | Loss 0.0018 | Win/lose count 17.5/1.0 (16.5)\n",
            "Epoch 029/050 | Loss 0.0018 | Win/lose count 10.0/4.0 (6.0)\n",
            "Epoch 030/050 | Loss 0.0036 | Win/lose count 7.0/4.0 (3.0)\n",
            "Epoch 031/050 | Loss 0.0052 | Win/lose count 13.0/4.0 (9.0)\n",
            "Epoch 032/050 | Loss 0.0013 | Win/lose count 16.0/2.0 (14.0)\n",
            "Epoch 033/050 | Loss 0.0028 | Win/lose count 20.5/5.0 (15.5)\n",
            "Epoch 034/050 | Loss 0.0019 | Win/lose count 2.5/3.0 (-0.5)\n",
            "Epoch 035/050 | Loss 0.0040 | Win/lose count 5.0/2.0 (3.0)\n",
            "Epoch 036/050 | Loss 0.0020 | Win/lose count 17.5/3.0 (14.5)\n",
            "Epoch 037/050 | Loss 0.0021 | Win/lose count 13.0/6.0 (7.0)\n",
            "Epoch 038/050 | Loss 0.0043 | Win/lose count 7.0/2.0 (5.0)\n",
            "Epoch 039/050 | Loss 0.0037 | Win/lose count 14.0/2.0 (12.0)\n",
            "Epoch 040/050 | Loss 0.0074 | Win/lose count 4.0/2.0 (2.0)\n",
            "Epoch 041/050 | Loss 0.0048 | Win/lose count 8.5/1.0 (7.5)\n",
            "Epoch 042/050 | Loss 0.0035 | Win/lose count 14.5/2.0 (12.5)\n",
            "Epoch 043/050 | Loss 0.0021 | Win/lose count 5.0/2.0 (3.0)\n",
            "Epoch 044/050 | Loss 0.0016 | Win/lose count 9.5/1.0 (8.5)\n",
            "Epoch 045/050 | Loss 0.0040 | Win/lose count 14.0/2.0 (12.0)\n",
            "Epoch 046/050 | Loss 0.0013 | Win/lose count 30.0/4.0 (26.0)\n",
            "Epoch 047/050 | Loss 0.1026 | Win/lose count 5.5/1.0 (4.5)\n",
            "Epoch 048/050 | Loss 0.0550 | Win/lose count 17.0/2.0 (15.0)\n",
            "Epoch 049/050 | Loss 0.0586 | Win/lose count 12.0/1.0 (11.0)\n"
          ],
          "name": "stdout"
        }
      ]
    },
    {
      "cell_type": "markdown",
      "metadata": {
        "id": "jtE2YhjBY7WJ",
        "colab_type": "text"
      },
      "source": [
        "***\n",
        "***\n",
        "__Question 9__ Test both algorithms and compare their performances. Which issue(s) do you observe? Observe also different behaviors by changing the temperature."
      ]
    },
    {
      "cell_type": "code",
      "metadata": {
        "id": "aZkpEAY_Y7WK",
        "colab_type": "code",
        "colab": {},
        "outputId": "9d28d666-4920-4da6-e1e2-24e1c2d8850a"
      },
      "source": [
        "env = Environment(grid_size=size, max_time=T,temperature=0.4)\n",
        "agent_cnn = DQN_CNN(size, lr=.1, epsilon = 0.1, memory_size=2000, batch_size = 32)\n",
        "agent_cnn.load(name_weights='cnn_trainmodel.h5',name_model='cnn_trainmodel.json')\n",
        "\n",
        "agent_fc = DQN_FC(size, lr=.1, epsilon = 0.1, memory_size=2000, batch_size = 32)\n",
        "agent_cnn.load(name_weights='fc_trainmodel.h5',name_model='fc_trainmodel.json')\n",
        "print('Test of the CNN')\n",
        "test(agent_cnn,env,epochs_test,prefix='cnn_test')\n",
        "print('Test of the FC')\n",
        "test(agent_fc,env,epochs_test,prefix='fc_test')"
      ],
      "execution_count": 0,
      "outputs": [
        {
          "output_type": "stream",
          "text": [
            "Test of the CNN\n",
            "Win/lose count 5.0/1.0. Average score (4.0)\n",
            "Win/lose count 6.0/0.0. Average score (5.0)\n",
            "Win/lose count 5.5/0.0. Average score (5.166666666666667)\n",
            "Win/lose count 7.5/0.0. Average score (5.75)\n",
            "Win/lose count 8.5/0.0. Average score (6.3)\n",
            "Win/lose count 5.5/0.0. Average score (6.166666666666667)\n",
            "Win/lose count 5.0/0.0. Average score (6.0)\n",
            "Win/lose count 3.0/0.0. Average score (5.625)\n",
            "Win/lose count 0.5/0.0. Average score (5.055555555555555)\n",
            "Win/lose count 3.0/0.0. Average score (4.85)\n",
            "Win/lose count 13.0/0.0. Average score (5.590909090909091)\n",
            "Win/lose count 13.5/0.0. Average score (6.25)\n",
            "Win/lose count 5.0/0.0. Average score (6.153846153846154)\n",
            "Win/lose count 3.5/1.0. Average score (5.892857142857143)\n",
            "Win/lose count 2.5/0.0. Average score (5.666666666666667)\n",
            "Win/lose count 3.0/0.0. Average score (5.5)\n",
            "Win/lose count 2.5/0.0. Average score (5.323529411764706)\n",
            "Win/lose count 9.5/0.0. Average score (5.555555555555555)\n",
            "Win/lose count 20.0/0.0. Average score (6.315789473684211)\n",
            "Win/lose count 10.5/0.0. Average score (6.525)\n",
            "Final score: 6.525\n",
            "Test of the FC\n",
            "Win/lose count 1.0/0.0. Average score (1.0)\n",
            "Win/lose count 2.0/1.0. Average score (1.0)\n",
            "Win/lose count 4.0/3.0. Average score (1.0)\n",
            "Win/lose count 0/1.0. Average score (0.5)\n",
            "Win/lose count 2.0/1.0. Average score (0.6)\n",
            "Win/lose count 4.5/1.0. Average score (1.0833333333333333)\n",
            "Win/lose count 1.0/1.0. Average score (0.9285714285714286)\n",
            "Win/lose count 1.0/2.0. Average score (0.6875)\n",
            "Win/lose count 0.5/1.0. Average score (0.5555555555555556)\n",
            "Win/lose count 0.5/0.0. Average score (0.55)\n",
            "Win/lose count 0/2.0. Average score (0.3181818181818182)\n",
            "Win/lose count 0.5/0.0. Average score (0.3333333333333333)\n",
            "Win/lose count 3.0/1.0. Average score (0.46153846153846156)\n",
            "Win/lose count 3.0/1.0. Average score (0.5714285714285714)\n",
            "Win/lose count 0/1.0. Average score (0.4666666666666667)\n",
            "Win/lose count 1.5/4.0. Average score (0.28125)\n",
            "Win/lose count 1.0/1.0. Average score (0.2647058823529412)\n",
            "Win/lose count 2.5/2.0. Average score (0.2777777777777778)\n",
            "Win/lose count 1.0/2.0. Average score (0.21052631578947367)\n",
            "Win/lose count 1.0/2.0. Average score (0.15)\n",
            "Final score: 0.15\n"
          ],
          "name": "stdout"
        }
      ]
    },
    {
      "cell_type": "code",
      "metadata": {
        "id": "hI_MEo8ZY7WP",
        "colab_type": "code",
        "colab": {}
      },
      "source": [
        "HTML(display_videos('cnn_test10.mp4'))"
      ],
      "execution_count": 0,
      "outputs": []
    },
    {
      "cell_type": "code",
      "metadata": {
        "id": "aumWQOqbY7WS",
        "colab_type": "code",
        "colab": {}
      },
      "source": [
        "HTML(display_videos('fc_test10.mp4'))"
      ],
      "execution_count": 0,
      "outputs": []
    },
    {
      "cell_type": "markdown",
      "metadata": {
        "id": "okvYIbDgY7WV",
        "colab_type": "text"
      },
      "source": [
        "The main issue is that the agent lacks exploration of the environment. It tends to quickly get stuck in loops when there is no positive reward(  the rat can't observe any positive reward, it appears especially when the temperature is low).\n",
        "\n",
        "When increasing the temperature, the score of the agent improves. We notice that he tends to explore more as the temperature gets higher (since positive rewards are almost always visible for him).\n",
        "\n",
        "\n",
        "The table below summarises some results ( the networks was tranined on temperature = 0.3 )\n",
        "\n",
        "|Temperature|FC average Test score|CNN Test average score |\n",
        "|----|-----|----|\n",
        "|0.1|-0.4|1.25|\n",
        "|0.3|0.175|3.125|\n",
        "|0.5|1.34|7.3|\n",
        "|0.9|2.475|18.025|\n",
        "\n",
        "\n",
        "The performance using the architecture with CNN is widely better than the one obtained using  fully connected networks. The score of both of them improves with the temperature and so does the gap between the scores of the two architectures. "
      ]
    },
    {
      "cell_type": "markdown",
      "metadata": {
        "id": "eo4pp-xhY7WV",
        "colab_type": "text"
      },
      "source": [
        "***\n",
        "\n",
        "The algorithm tends to not explore the map which can be an issue. We propose two ideas in order to encourage exploration:\n",
        "1. Incorporating a decreasing $\\epsilon$-greedy exploration. You can use the method ```set_epsilon```\n",
        "2. Append via the environment a new state that describes if a cell has been visited or not\n",
        "\n",
        "***\n",
        "__Question 10__ Design a new ```train_explore``` function and environment class ```EnvironmentExploring``` to tackle the issue of exploration.\n",
        "\n"
      ]
    },
    {
      "cell_type": "code",
      "metadata": {
        "id": "s24QgiafY7WW",
        "colab_type": "code",
        "colab": {}
      },
      "source": [
        "def train_explore(agent,env,epoch,prefix=''):\n",
        "    \n",
        "    # Number of won games\n",
        "    score = 0\n",
        "    loss = 0\n",
        "    \n",
        "    '''\n",
        "    We start from a given epsilon and we decrease it exponentially after each epoch to reach \n",
        "    approximately 0.1 by the end. \n",
        "    \"T\" will be used to avoid getting a value of 0.1 for epsilon very quickly --> to slow down the \n",
        "    decrease of epsilon (favour exploration)\n",
        "    '''\n",
        "    start_eps = agent.epsilon\n",
        "    T = epoch/10   \n",
        "    \n",
        "    for e in range(epoch):\n",
        "        state = env.reset()\n",
        "        game_over = False\n",
        "\n",
        "        win = 0\n",
        "        lose = 0\n",
        "        eps = (start_eps - 0.1)*np.exp(-e/T) + 0.1\n",
        "        \n",
        "        while not game_over:\n",
        "            # The agent performs an action\n",
        "            action = agent.act(state)\n",
        "            prev_state = state\n",
        "            state, reward, game_over = env.act(action, train=True)\n",
        "\n",
        "            # Update the counters\n",
        "            if reward > 0:\n",
        "                win = win + reward\n",
        "            if reward < 0:\n",
        "                lose = lose -reward\n",
        "\n",
        "            # reinforce using strategy with the adapted epsilon\n",
        "            agent.set_epsilon(eps)\n",
        "            loss = agent.reinforce(prev_state, state,  action, reward, game_over)\n",
        "            \n",
        "\n",
        "        # Save as a mp4\n",
        "        if (e + 1) % 10 == 0:\n",
        "            env.draw(prefix+str(e+1))\n",
        "\n",
        "        # Update stats\n",
        "        score += win-lose\n",
        "\n",
        "        print(\"Epoch {:03d}/{:03d} | Loss {:.4f} | Win/lose count {:.3f}/{:.3f} ({:.3f}), epsilon {:.3f}\"\n",
        "              .format(e, epoch, loss, win, lose, win-lose, eps))\n",
        "        agent.save(name_weights=prefix+'model.h5',name_model=prefix+'model.json')\n",
        "    \n",
        "        \n",
        "class EnvironmentExploring(object):\n",
        "  \n",
        "    def __init__(self, grid_size=10, max_time=500, temperature=0.1):\n",
        "        grid_size = grid_size+4\n",
        "        self.grid_size = grid_size\n",
        "        self.max_time = max_time\n",
        "        self.temperature = temperature\n",
        "\n",
        "        #board on which one plays\n",
        "        self.board = np.zeros((grid_size,grid_size))\n",
        "        self.position = np.zeros((grid_size,grid_size))\n",
        "        self.malus_position = np.zeros((grid_size,grid_size)) #define malus when going to a previously visited position\n",
        "\n",
        "        # coordinate of the cat\n",
        "        self.x = 0\n",
        "        self.y = 1\n",
        "\n",
        "        # self time\n",
        "        self.t = 0\n",
        "\n",
        "        self.scale=16\n",
        "\n",
        "        self.to_draw = np.zeros((max_time+2, grid_size*self.scale, grid_size*self.scale, 3))\n",
        "        \n",
        "        \n",
        "\n",
        "    def draw(self,e):\n",
        "        skvideo.io.vwrite(str(e) + '.mp4', self.to_draw)\n",
        "\n",
        "    def get_frame(self,t):\n",
        "        b = np.zeros((self.grid_size,self.grid_size,3))+128\n",
        "        b[self.board>0,0] = 256\n",
        "        b[self.board < 0, 2] = 256\n",
        "        b[self.x,self.y,:]=256\n",
        "        b[-2:,:,:]=0\n",
        "        b[:,-2:,:]=0\n",
        "        b[:2,:,:]=0\n",
        "        b[:,:2,:]=0\n",
        "        \n",
        "        b =  cv2.resize(b, None, fx=self.scale, fy=self.scale, interpolation=cv2.INTER_NEAREST)\n",
        "\n",
        "        self.to_draw[t,:,:,:]=b\n",
        "\n",
        "\n",
        "\n",
        "    def act(self, action, train = False):\n",
        "        \"\"\"This function returns the new state, reward and decides if the\n",
        "        game ends.\"\"\"\n",
        "\n",
        "        self.get_frame(int(self.t))\n",
        "\n",
        "        self.position = np.zeros((self.grid_size, self.grid_size))\n",
        "\n",
        "        self.position[0:2,:]= -1\n",
        "        self.position[:,0:2] = -1\n",
        "        self.position[-2:, :] = -1\n",
        "        self.position[-2:, :] = -1\n",
        "\n",
        "        self.position[self.x, self.y] = 1\n",
        "        \n",
        "        if action == 0:\n",
        "            if self.x == self.grid_size-3:\n",
        "                self.x = self.x-1\n",
        "            else:\n",
        "                self.x = self.x + 1\n",
        "        elif action == 1:\n",
        "            if self.x == 2:\n",
        "                self.x = self.x+1\n",
        "            else:\n",
        "                self.x = self.x-1\n",
        "        elif action == 2:\n",
        "            if self.y == self.grid_size - 3:\n",
        "                self.y = self.y - 1\n",
        "            else:\n",
        "                self.y = self.y + 1\n",
        "        elif action == 3:\n",
        "            if self.y == 2:\n",
        "                self.y = self.y + 1\n",
        "            else:\n",
        "                self.y = self.y - 1\n",
        "        else:\n",
        "            RuntimeError('Error: action not recognized')\n",
        "\n",
        "        self.t = self.t + 1\n",
        "        reward = 0\n",
        "        is_train = int(train)\n",
        "        \n",
        "        reward = self.board[self.x, self.y] - is_train * self.malus_position[self.x, self.y]\n",
        "        \n",
        "        # penalisation if we re-visit an already visited state\n",
        "        penalization = 0.1\n",
        "        self.malus_position[self.x, self.y] = penalization\n",
        "        \n",
        "        self.board[self.x, self.y] = 0\n",
        "        game_over = self.t > self.max_time\n",
        "        \n",
        "        state = np.concatenate((self.malus_position.reshape(self.grid_size, self.grid_size,1),\n",
        "                                self.board.reshape(self.grid_size, self.grid_size,1),\n",
        "                                self.position.reshape(self.grid_size, self.grid_size,1)),axis=2)\n",
        "\n",
        "        state = state[self.x - 2:self.x + 3, self.y - 2:self.y + 3, :]\n",
        "\n",
        "        return state, reward, game_over\n",
        "\n",
        "    \n",
        "    def reset(self):\n",
        "        \"\"\"This function resets the game and returns the initial state\"\"\"\n",
        "\n",
        "        self.x = np.random.randint(3, self.grid_size-3, size=1)[0]\n",
        "        self.y = np.random.randint(3, self.grid_size-3, size=1)[0]\n",
        "\n",
        "\n",
        "        bonus = 0.5*np.random.binomial(1,self.temperature,size=self.grid_size**2)\n",
        "        bonus = bonus.reshape(self.grid_size,self.grid_size)\n",
        "\n",
        "        malus = -1.0*np.random.binomial(1,self.temperature,size=self.grid_size**2)\n",
        "        malus = malus.reshape(self.grid_size, self.grid_size)\n",
        "\n",
        "        self.to_draw = np.zeros((self.max_time+2, self.grid_size*self.scale, self.grid_size*self.scale, 3))\n",
        "\n",
        "        malus[bonus>0]=0\n",
        "\n",
        "        self.board = bonus + malus\n",
        "\n",
        "        self.position = np.zeros((self.grid_size, self.grid_size))\n",
        "        self.position[0:2,:]= -1\n",
        "        self.position[:,0:2] = -1\n",
        "        self.position[-2:, :] = -1\n",
        "        self.position[-2:, :] = -1\n",
        "        self.board[self.x,self.y] = 0\n",
        "        self.t = 0\n",
        "        \n",
        "        self.malus_position = np.zeros((self.grid_size, self.grid_size))\n",
        "        penalization = 0.1\n",
        "        self.malus_position[self.x, self.y] = penalization\n",
        "\n",
        "        state = np.concatenate((self.malus_position.reshape(self.grid_size, self.grid_size,1),\n",
        "                                self.board.reshape(self.grid_size, self.grid_size,1),\n",
        "                                self.position.reshape(self.grid_size, self.grid_size,1)),axis=2)\n",
        "\n",
        "        state = state[self.x - 2:self.x + 3, self.y - 2:self.y + 3, :]\n",
        "        return state"
      ],
      "execution_count": 0,
      "outputs": []
    },
    {
      "cell_type": "code",
      "metadata": {
        "id": "N0h5oA9JY7WZ",
        "colab_type": "code",
        "colab": {},
        "outputId": "c4268948-3141-4655-fa27-d81d33f674cd"
      },
      "source": [
        "# Training\n",
        "env = EnvironmentExploring(grid_size=size, max_time=T, temperature=0.3)\n",
        "agent = DQN_CNN(size, lr=.1, epsilon = 0.9, memory_size=2000, batch_size = 32, n_state=3)\n",
        "train_explore(agent, env, epochs_train, prefix='cnn_train_explore')\n",
        "HTML(display_videos('cnn_train_explore10.mp4'))"
      ],
      "execution_count": 0,
      "outputs": [
        {
          "output_type": "stream",
          "text": [
            "Epoch 000/050 | Loss 0.0066 | Win/lose count 8.500/25.400 (-16.900), epsilon 0.900\n",
            "Epoch 001/050 | Loss 0.0196 | Win/lose count 13.000/26.600 (-13.600), epsilon 0.755\n",
            "Epoch 002/050 | Loss 0.0094 | Win/lose count 11.000/24.600 (-13.600), epsilon 0.636\n",
            "Epoch 003/050 | Loss 0.0070 | Win/lose count 14.000/21.800 (-7.800), epsilon 0.539\n",
            "Epoch 004/050 | Loss 0.0598 | Win/lose count 9.500/22.300 (-12.800), epsilon 0.459\n",
            "Epoch 005/050 | Loss 0.0079 | Win/lose count 7.500/20.800 (-13.300), epsilon 0.394\n",
            "Epoch 006/050 | Loss 0.0430 | Win/lose count 7.000/19.000 (-12.000), epsilon 0.341\n",
            "Epoch 007/050 | Loss 0.0040 | Win/lose count 15.500/21.200 (-5.700), epsilon 0.297\n",
            "Epoch 008/050 | Loss 0.0090 | Win/lose count 18.000/16.400 (1.600), epsilon 0.262\n",
            "Epoch 009/050 | Loss 0.0051 | Win/lose count 8.500/19.400 (-10.900), epsilon 0.232\n",
            "Epoch 010/050 | Loss 0.0077 | Win/lose count 16.000/16.800 (-0.800), epsilon 0.208\n",
            "Epoch 011/050 | Loss 0.0057 | Win/lose count 21.500/13.000 (8.500), epsilon 0.189\n",
            "Epoch 012/050 | Loss 0.0051 | Win/lose count 21.000/13.200 (7.800), epsilon 0.173\n",
            "Epoch 013/050 | Loss 0.0521 | Win/lose count 26.000/16.000 (10.000), epsilon 0.159\n",
            "Epoch 014/050 | Loss 0.0086 | Win/lose count 17.000/22.000 (-5.000), epsilon 0.149\n",
            "Epoch 015/050 | Loss 0.0113 | Win/lose count 23.500/15.300 (8.200), epsilon 0.140\n",
            "Epoch 016/050 | Loss 0.0121 | Win/lose count 25.000/12.100 (12.900), epsilon 0.133\n",
            "Epoch 017/050 | Loss 0.0168 | Win/lose count 21.500/15.700 (5.800), epsilon 0.127\n",
            "Epoch 018/050 | Loss 0.0382 | Win/lose count 23.500/12.600 (10.900), epsilon 0.122\n",
            "Epoch 019/050 | Loss 0.0107 | Win/lose count 21.000/15.000 (6.000), epsilon 0.118\n",
            "Epoch 020/050 | Loss 0.0072 | Win/lose count 19.000/17.300 (1.700), epsilon 0.115\n",
            "Epoch 021/050 | Loss 0.0068 | Win/lose count 25.000/18.500 (6.500), epsilon 0.112\n",
            "Epoch 022/050 | Loss 0.0112 | Win/lose count 18.000/14.500 (3.500), epsilon 0.110\n",
            "Epoch 023/050 | Loss 0.0117 | Win/lose count 15.500/16.900 (-1.400), epsilon 0.108\n",
            "Epoch 024/050 | Loss 0.0069 | Win/lose count 21.000/14.400 (6.600), epsilon 0.107\n",
            "Epoch 025/050 | Loss 0.0061 | Win/lose count 20.000/18.800 (1.200), epsilon 0.105\n",
            "Epoch 026/050 | Loss 0.0098 | Win/lose count 22.500/13.700 (8.800), epsilon 0.104\n",
            "Epoch 027/050 | Loss 0.0071 | Win/lose count 24.000/14.200 (9.800), epsilon 0.104\n",
            "Epoch 028/050 | Loss 0.0221 | Win/lose count 17.500/16.100 (1.400), epsilon 0.103\n",
            "Epoch 029/050 | Loss 0.0174 | Win/lose count 14.500/13.500 (1.000), epsilon 0.102\n",
            "Epoch 030/050 | Loss 0.0110 | Win/lose count 21.500/11.400 (10.100), epsilon 0.102\n",
            "Epoch 031/050 | Loss 0.0118 | Win/lose count 16.000/18.000 (-2.000), epsilon 0.102\n",
            "Epoch 032/050 | Loss 0.0136 | Win/lose count 14.000/15.700 (-1.700), epsilon 0.101\n",
            "Epoch 033/050 | Loss 0.0070 | Win/lose count 14.500/14.900 (-0.400), epsilon 0.101\n",
            "Epoch 034/050 | Loss 0.0057 | Win/lose count 10.000/16.100 (-6.100), epsilon 0.101\n",
            "Epoch 035/050 | Loss 0.0053 | Win/lose count 25.000/14.800 (10.200), epsilon 0.101\n",
            "Epoch 036/050 | Loss 0.0507 | Win/lose count 20.500/15.600 (4.900), epsilon 0.101\n",
            "Epoch 037/050 | Loss 0.0143 | Win/lose count 19.500/16.100 (3.400), epsilon 0.100\n",
            "Epoch 038/050 | Loss 0.0038 | Win/lose count 23.000/13.800 (9.200), epsilon 0.100\n",
            "Epoch 039/050 | Loss 0.0085 | Win/lose count 24.000/10.200 (13.800), epsilon 0.100\n",
            "Epoch 040/050 | Loss 0.0078 | Win/lose count 26.500/13.200 (13.300), epsilon 0.100\n",
            "Epoch 041/050 | Loss 0.0432 | Win/lose count 18.500/13.100 (5.400), epsilon 0.100\n",
            "Epoch 042/050 | Loss 0.0071 | Win/lose count 25.000/11.900 (13.100), epsilon 0.100\n",
            "Epoch 043/050 | Loss 0.0109 | Win/lose count 26.500/11.400 (15.100), epsilon 0.100\n",
            "Epoch 044/050 | Loss 0.0577 | Win/lose count 24.500/13.600 (10.900), epsilon 0.100\n",
            "Epoch 045/050 | Loss 0.0171 | Win/lose count 26.000/11.200 (14.800), epsilon 0.100\n",
            "Epoch 046/050 | Loss 0.0451 | Win/lose count 13.500/13.200 (0.300), epsilon 0.100\n",
            "Epoch 047/050 | Loss 0.0415 | Win/lose count 20.000/15.400 (4.600), epsilon 0.100\n",
            "Epoch 048/050 | Loss 0.0102 | Win/lose count 16.500/17.300 (-0.800), epsilon 0.100\n",
            "Epoch 049/050 | Loss 0.0107 | Win/lose count 17.500/13.900 (3.600), epsilon 0.100\n"
          ],
          "name": "stdout"
        }
      ]
    },
    {
      "cell_type": "code",
      "metadata": {
        "id": "4PaQxzoDY7Wb",
        "colab_type": "code",
        "colab": {},
        "outputId": "f5bbd298-1734-449e-f60e-8fa56e26fff2"
      },
      "source": [
        "# Evaluation\n",
        "test(agent,env,epochs_test,prefix='cnn_test_explore')\n",
        "HTML(display_videos('cnn_test_explore10.mp4'))"
      ],
      "execution_count": 0,
      "outputs": [
        {
          "output_type": "stream",
          "text": [
            "Win/lose count 21.0/0.0. Average score (21.0)\n",
            "Win/lose count 12.5/0.0. Average score (16.75)\n",
            "Win/lose count 15.5/2.0. Average score (15.666666666666666)\n",
            "Win/lose count 9.5/3.0. Average score (13.375)\n",
            "Win/lose count 8.0/0.0. Average score (12.3)\n",
            "Win/lose count 4.0/0.0. Average score (10.916666666666666)\n",
            "Win/lose count 22.5/0.0. Average score (12.571428571428571)\n",
            "Win/lose count 25.0/0.0. Average score (14.125)\n",
            "Win/lose count 23.5/0.0. Average score (15.166666666666666)\n",
            "Win/lose count 23.0/0.0. Average score (15.95)\n",
            "Win/lose count 6.0/1.0. Average score (14.954545454545455)\n",
            "Win/lose count 15.5/0.0. Average score (15.0)\n",
            "Win/lose count 14.0/0.0. Average score (14.923076923076923)\n",
            "Win/lose count 14.5/2.0. Average score (14.75)\n",
            "Win/lose count 4.0/0.0. Average score (14.033333333333333)\n",
            "Win/lose count 11.5/0.0. Average score (13.875)\n",
            "Win/lose count 4.0/0.0. Average score (13.294117647058824)\n",
            "Win/lose count 16.0/0.0. Average score (13.444444444444445)\n",
            "Win/lose count 5.5/0.0. Average score (13.026315789473685)\n",
            "Win/lose count 13.5/0.0. Average score (13.05)\n",
            "Final score: 13.05\n"
          ],
          "name": "stdout"
        }
      ]
    },
    {
      "cell_type": "markdown",
      "metadata": {
        "id": "8AWT89TrY7Wf",
        "colab_type": "text"
      },
      "source": [
        "Training the model with the same architecture and using the same temperature (0.3), the performance is widely better now than what we got before.  "
      ]
    },
    {
      "cell_type": "markdown",
      "metadata": {
        "id": "NPhNVbNYY7Wg",
        "colab_type": "text"
      },
      "source": [
        "***\n",
        "***\n",
        "__BONUS question__ Use the expert DQN from the previous question to generate some winning games. Train a model that mimicks its behavior. Compare the performances."
      ]
    },
    {
      "cell_type": "markdown",
      "metadata": {
        "id": "LawsTLISY7Wi",
        "colab_type": "text"
      },
      "source": [
        ""
      ]
    },
    {
      "cell_type": "markdown",
      "metadata": {
        "id": "JlHyB_r5Y7Wj",
        "colab_type": "text"
      },
      "source": [
        "***"
      ]
    }
  ]
}