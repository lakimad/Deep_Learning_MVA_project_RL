{
 "cells": [
  {
   "cell_type": "markdown",
   "metadata": {
    "colab_type": "text",
    "id": "wXwydaZfY7Uw"
   },
   "source": [
    "**You may need to install [OpenCV](https://pypi.python.org/pypi/opencv-python) and [scikit-video](http://www.scikit-video.org/stable/).**"
   ]
  },
  {
   "cell_type": "code",
   "execution_count": 3,
   "metadata": {
    "colab": {
     "base_uri": "https://localhost:8080/",
     "height": 207
    },
    "colab_type": "code",
    "id": "w7R9EWTtZGae",
    "outputId": "fe6cbdce-c028-448f-9344-7dbabe35f108"
   },
   "outputs": [
    {
     "name": "stdout",
     "output_type": "stream",
     "text": [
      "Requirement already satisfied: opencv-contrib-python in /usr/local/lib/python3.6/dist-packages (4.1.2.30)\n",
      "Requirement already satisfied: numpy>=1.11.3 in /usr/local/lib/python3.6/dist-packages (from opencv-contrib-python) (1.17.5)\n",
      "Collecting scikit-video\n",
      "\u001b[?25l  Downloading https://files.pythonhosted.org/packages/b1/a6/c69cad508139a342810ae46e946ebb3256aa6e42f690d901bb68f50582e3/scikit_video-1.1.11-py2.py3-none-any.whl (2.3MB)\n",
      "\u001b[K     |████████████████████████████████| 2.3MB 2.8MB/s \n",
      "\u001b[?25hRequirement already satisfied: pillow in /usr/local/lib/python3.6/dist-packages (from scikit-video) (6.2.2)\n",
      "Requirement already satisfied: scipy in /usr/local/lib/python3.6/dist-packages (from scikit-video) (1.4.1)\n",
      "Requirement already satisfied: numpy in /usr/local/lib/python3.6/dist-packages (from scikit-video) (1.17.5)\n",
      "Installing collected packages: scikit-video\n",
      "Successfully installed scikit-video-1.1.11\n"
     ]
    }
   ],
   "source": [
    "!pip install opencv-contrib-python\n",
    "!sudo pip install scikit-video"
   ]
  },
  {
   "cell_type": "code",
   "execution_count": 0,
   "metadata": {
    "colab": {},
    "colab_type": "code",
    "id": "bHBVcqy_Y7Uy"
   },
   "outputs": [],
   "source": [
    "import tensorflow.keras\n",
    "import numpy as np\n",
    "import io\n",
    "import base64\n",
    "from IPython.display import HTML\n",
    "import skvideo.io\n",
    "import cv2\n",
    "import json\n",
    "\n",
    "from keras.models import Sequential,model_from_json\n",
    "from keras.layers import Dense\n",
    "from keras.optimizers import sgd, Adam\n",
    "\n",
    "from keras.layers import Conv2D, MaxPooling2D, Activation, AveragePooling2D,Reshape,BatchNormalization,Flatten, Dropout"
   ]
  },
  {
   "cell_type": "markdown",
   "metadata": {
    "colab_type": "text",
    "id": "03T7j6htY7U3"
   },
   "source": [
    "# MiniProject on Deep Reinforcement Learning"
   ]
  },
  {
   "cell_type": "markdown",
   "metadata": {
    "colab_type": "text",
    "id": "9tzPhn6YY7U5"
   },
   "source": [
    "__Notations__: $E_p$ is the expectation under probability $p$. Please justify each of your answer and widely comment your code."
   ]
  },
  {
   "cell_type": "markdown",
   "metadata": {
    "colab_type": "text",
    "id": "NigbGo4RY7U6"
   },
   "source": [
    "# Context"
   ]
  },
  {
   "cell_type": "markdown",
   "metadata": {
    "colab_type": "text",
    "id": "HryufYWjY7U7"
   },
   "source": [
    "In a reinforcement learning algorithm, we modelize each step $t$ as an action $a_t$ obtained from a state $s_t$, i.e. $\\{(a_{t},s_{t})_{t\\leq T}\\}$ having the Markov property. We consider a discount factor $\\gamma \\in [0,1]$ that ensures convergence. The goal is to find among all the policies $\\pi$, one that maximizes the expected reward:\n",
    "\n",
    "\\begin{equation*}\n",
    "R(\\pi)=\\sum_{t\\leq T}E_{p^{\\pi}}[\\gamma^t r(s_{t},a_{t})] \\> ,\n",
    "\\end{equation*}\n",
    "\n",
    "where: \n",
    "\\begin{equation*}p^{\\pi}(a_{0},a_{1},s_{1},...,a_{T},s_{T})=p(a_{0})\\prod_{t=1}^{T}\\pi(a_{t}|s_{t})p(s_{t+1}|s_{t},a_{t}) \\> .\n",
    "\\end{equation*}\n",
    "\n",
    "We note the $Q$-function:\n",
    "\n",
    "\\begin{equation*}Q^\\pi(s,a)=E_{p^{\\pi}}[\\sum_{t\\leq T}\\gamma^{t}r(s_{t},a_{t})|s_{0}=s,a_{0}=a] \\> .\n",
    "\\end{equation*}\n",
    "\n",
    "Thus, the optimal Q function is:\n",
    "\\begin{equation*}\n",
    "Q^*(s,a)=\\max_{\\pi}Q^\\pi(s,a) \\> .\n",
    "\\end{equation*}\n",
    "\n",
    "In this project, we will apply the deep reinforcement learning techniques to a simple game: an agent will have to learn from scratch a policy that will permit it maximizing a reward."
   ]
  },
  {
   "cell_type": "markdown",
   "metadata": {
    "colab_type": "text",
    "id": "jO7s9Lk4Y7U9"
   },
   "source": [
    "## The environment, the agent and the game"
   ]
  },
  {
   "cell_type": "markdown",
   "metadata": {
    "colab_type": "text",
    "id": "qn9F-KseY7U-"
   },
   "source": [
    "### The environment"
   ]
  },
  {
   "cell_type": "markdown",
   "metadata": {
    "colab_type": "text",
    "id": "v2ufuVBDY7U_"
   },
   "source": [
    "```Environment``` is an abstract class that represents the states, rewards, and actions to obtain the new state."
   ]
  },
  {
   "cell_type": "code",
   "execution_count": 0,
   "metadata": {
    "colab": {},
    "colab_type": "code",
    "id": "aVjIc81GY7VA"
   },
   "outputs": [],
   "source": [
    "class Environment(object):\n",
    "    def __init__(self):\n",
    "        pass\n",
    "\n",
    "    def act(self, act):\n",
    "        \"\"\"\n",
    "        One can act on the environment and obtain its reaction:\n",
    "        - the new state\n",
    "        - the reward of the new state\n",
    "        - should we continue the game?\n",
    "\n",
    "        :return: state, reward, game_over\n",
    "        \"\"\"\n",
    "        pass\n",
    "\n",
    "\n",
    "    def reset(self):\n",
    "        \"\"\"\n",
    "        Reinitialize the environment to a random state and returns\n",
    "        the original state\n",
    "\n",
    "        :return: state\n",
    "        \"\"\"\n",
    "        pass\n",
    "    \n",
    "    def draw(self):\n",
    "        \"\"\"\n",
    "        Visualize in the console or graphically the current state\n",
    "        \"\"\"\n",
    "        pass"
   ]
  },
  {
   "cell_type": "markdown",
   "metadata": {
    "colab_type": "text",
    "id": "dCV1G3QtY7VE"
   },
   "source": [
    "The method ```act``` allows to act on the environment at a given state $s_t$ (stored internally), via action $a_t$. The method will return the new state $s_{t+1}$, the reward $r(s_{t},a_{t})$ and determines if $t\\leq T$ (*game_over*).\n",
    "\n",
    "The method ```reset``` simply reinitializes the environment to a random state $s_0$.\n",
    "\n",
    "The method ```draw``` displays the current state $s_t$ (this is useful to check the behavior of the Agent).\n",
    "\n",
    "We modelize $s_t$ as a tensor, while $a_t$ is an integer."
   ]
  },
  {
   "cell_type": "markdown",
   "metadata": {
    "colab_type": "text",
    "id": "4eliHsRfY7VF"
   },
   "source": [
    "### The Agent"
   ]
  },
  {
   "cell_type": "markdown",
   "metadata": {
    "colab_type": "text",
    "id": "1lAt4koOY7VG"
   },
   "source": [
    "The goal of the ```Agent``` is to interact with the ```Environment``` by proposing actions $a_t$ obtained from a given state $s_t$ to attempt to maximize its __reward__ $r(s_t,a_t)$. We propose the following abstract class:"
   ]
  },
  {
   "cell_type": "code",
   "execution_count": 0,
   "metadata": {
    "colab": {},
    "colab_type": "code",
    "id": "8fxgMweNY7VH"
   },
   "outputs": [],
   "source": [
    "class Agent(object):\n",
    "    def __init__(self, epsilon=0.1, n_action=4):\n",
    "        self.epsilon = epsilon\n",
    "        self.n_action = n_action\n",
    "    \n",
    "    def set_epsilon(self,e):\n",
    "        self.epsilon = e\n",
    "\n",
    "    def act(self,s,train=True):\n",
    "        \"\"\" This function should return the next action to do:\n",
    "        an integer between 0 and 4 (not included) with a random exploration of epsilon\"\"\"\n",
    "        if train:\n",
    "            if np.random.rand() <= self.epsilon:\n",
    "                a = np.random.randint(0, self.n_action, size=1)[0]\n",
    "            else:\n",
    "                a = self.learned_act(s)\n",
    "        else: # in some cases, this can improve the performance.. remove it if poor performances\n",
    "            a = self.learned_act(s)\n",
    "\n",
    "        return a\n",
    "\n",
    "    def learned_act(self,s):\n",
    "        \"\"\" Act via the policy of the agent, from a given state s\n",
    "        it proposes an action a\"\"\"\n",
    "        pass\n",
    "\n",
    "    def reinforce(self, s, n_s, a, r, game_over_):\n",
    "        \"\"\" This function is the core of the learning algorithm. \n",
    "        It takes as an input the current state s_, the next state n_s_\n",
    "        the action a_ used to move from s_ to n_s_ and the reward r_.\n",
    "        \n",
    "        Its goal is to learn a policy.\n",
    "        \"\"\"\n",
    "        pass\n",
    "\n",
    "    def save(self):\n",
    "        \"\"\" This function returns basic stats if applicable: the\n",
    "        loss and/or the model\"\"\"\n",
    "        pass\n",
    "\n",
    "    def load(self):\n",
    "        \"\"\" This function allows to restore a model\"\"\"\n",
    "        pass"
   ]
  },
  {
   "cell_type": "markdown",
   "metadata": {
    "colab_type": "text",
    "id": "AqllHQ-lY7VL"
   },
   "source": [
    "***\n",
    "__Question 1__:\n",
    "Explain the function act. Why is ```epsilon``` essential?"
   ]
  },
  {
   "cell_type": "markdown",
   "metadata": {
    "colab_type": "text",
    "id": "3n3PB-UOY7VM"
   },
   "source": [
    "Given the current state, the function act returns the action the agent makes in the environment (After that, he will observe the next state and reward  from the environment). \n",
    "\n",
    "In the traininig phase, the agent chooses either to explore the environment with a probability $\\epsilon$ by taking a random action, or to exploit what he has learned so far with a pobability of $1-\\epsilon$ (using greedy strategy for example). This is what is known by exploitation-exploration dilemma. Using this $\\epsilon$ allows the agent to discover more and new things about the environement  by giving a chance to all the actions to improve the way they are perceived so far and avoid getting stuck in taking some specific actions (actions that were taken the most and that give the best rewards). In other words, $\\epsilon$ quantifies somehow how much to exploit and how much to explore the environmenet.\n",
    "\n",
    "During the test phase, the agent samples the best action based on what he has learned given the current state. \n"
   ]
  },
  {
   "cell_type": "markdown",
   "metadata": {
    "colab_type": "text",
    "id": "lXgH1cNzY7VN"
   },
   "source": [
    "***\n",
    "### The Game"
   ]
  },
  {
   "cell_type": "markdown",
   "metadata": {
    "colab_type": "text",
    "id": "0IaBpPzzY7VO"
   },
   "source": [
    "The ```Agent``` and the ```Environment``` work in an interlaced way as in the following (take some time to understand this code as it is the core of the project)\n",
    "\n",
    "```python\n",
    "\n",
    "epoch = 300\n",
    "env = Environment()\n",
    "agent = Agent()\n",
    "\n",
    "\n",
    "# Number of won games\n",
    "score = 0\n",
    "loss = 0\n",
    "\n",
    "\n",
    "for e in range(epoch):\n",
    "    # At each epoch, we restart to a fresh game and get the initial state\n",
    "    state = env.reset()\n",
    "    # This assumes that the games will end\n",
    "    game_over = False\n",
    "\n",
    "    win = 0\n",
    "    lose = 0\n",
    "    \n",
    "    while not game_over:\n",
    "        # The agent performs an action\n",
    "        action = agent.act(state)\n",
    "\n",
    "        # Apply an action to the environment, get the next state, the reward\n",
    "        # and if the games end\n",
    "        prev_state = state\n",
    "        state, reward, game_over = env.act(action)\n",
    "\n",
    "        # Update the counters\n",
    "        if reward > 0:\n",
    "            win = win + reward\n",
    "        if reward < 0:\n",
    "            lose = lose -reward\n",
    "\n",
    "        # Apply the reinforcement strategy\n",
    "        loss = agent.reinforce(prev_state, state,  action, reward, game_over)\n",
    "\n",
    "    # Save as a mp4\n",
    "    if e % 10 == 0:\n",
    "        env.draw(e)\n",
    "\n",
    "    # Update stats\n",
    "    score += win-lose\n",
    "\n",
    "    print(\"Epoch {:03d}/{:03d} | Loss {:.4f} | Win/lose count {}/{} ({})\"\n",
    "          .format(e, epoch, loss, win, lose, win-lose))\n",
    "    agent.save()\n",
    "```"
   ]
  },
  {
   "cell_type": "markdown",
   "metadata": {
    "colab_type": "text",
    "id": "tC0RFv82Y7VQ"
   },
   "source": [
    "# The game, *eat cheese*"
   ]
  },
  {
   "cell_type": "markdown",
   "metadata": {
    "colab_type": "text",
    "id": "zZQTT1NEY7VR"
   },
   "source": [
    "A rat runs on an island and tries to eat as much as possible. The island is subdivided into $N\\times N$ cells, in which there are cheese (+0.5) and poisonous cells (-1). The rat has a visibility of 2 cells (thus it can see $5^2$ cells). The rat is given a time $T$ to accumulate as much food as possible. It can perform 4 actions: going up, down, left, right. \n",
    "\n",
    "The goal is to code an agent to solve this task that will learn by trial and error. We propose the following environment:"
   ]
  },
  {
   "cell_type": "code",
   "execution_count": 0,
   "metadata": {
    "colab": {},
    "colab_type": "code",
    "id": "sJx4Pfh9Y7VS"
   },
   "outputs": [],
   "source": [
    "class Environment(object):\n",
    "    def __init__(self, grid_size=10, max_time=500, temperature=0.1):\n",
    "        grid_size = grid_size+4\n",
    "        self.grid_size = grid_size\n",
    "        self.max_time = max_time\n",
    "        self.temperature = temperature\n",
    "\n",
    "        #board on which one plays\n",
    "        self.board = np.zeros((grid_size,grid_size))\n",
    "        self.position = np.zeros((grid_size,grid_size))\n",
    "\n",
    "        # coordinate of the cat\n",
    "        self.x = 0\n",
    "        self.y = 1\n",
    "\n",
    "        # self time\n",
    "        self.t = 0\n",
    "\n",
    "        self.scale=16\n",
    "\n",
    "        self.to_draw = np.zeros((max_time+2, grid_size*self.scale, grid_size*self.scale, 3))\n",
    "\n",
    "\n",
    "    def draw(self,e):\n",
    "        skvideo.io.vwrite(str(e) + '.mp4', self.to_draw)\n",
    "\n",
    "    def get_frame(self,t):\n",
    "        b = np.zeros((self.grid_size,self.grid_size,3))+128\n",
    "        b[self.board>0,0] = 256\n",
    "        b[self.board < 0, 2] = 256\n",
    "        b[self.x,self.y,:]=256\n",
    "        b[-2:,:,:]=0\n",
    "        b[:,-2:,:]=0\n",
    "        b[:2,:,:]=0\n",
    "        b[:,:2,:]=0\n",
    "        \n",
    "        b =  cv2.resize(b, None, fx=self.scale, fy=self.scale, interpolation=cv2.INTER_NEAREST)\n",
    "\n",
    "        self.to_draw[t,:,:,:]=b\n",
    "\n",
    "\n",
    "    def act(self, action):\n",
    "        \"\"\"This function returns the new state, reward and decides if the\n",
    "        game ends.\"\"\"\n",
    "\n",
    "        self.get_frame(int(self.t))\n",
    "\n",
    "        self.position = np.zeros((self.grid_size, self.grid_size))\n",
    "\n",
    "        self.position[0:2,:]= -1\n",
    "        self.position[:,0:2] = -1\n",
    "        self.position[-2:, :] = -1\n",
    "        self.position[-2:, :] = -1\n",
    "\n",
    "        self.position[self.x, self.y] = 1\n",
    "        if action == 0:\n",
    "            if self.x == self.grid_size-3:\n",
    "                self.x = self.x-1\n",
    "            else:\n",
    "                self.x = self.x + 1\n",
    "        elif action == 1:\n",
    "            if self.x == 2:\n",
    "                self.x = self.x+1\n",
    "            else:\n",
    "                self.x = self.x-1\n",
    "        elif action == 2:\n",
    "            if self.y == self.grid_size - 3:\n",
    "                self.y = self.y - 1\n",
    "            else:\n",
    "                self.y = self.y + 1\n",
    "        elif action == 3:\n",
    "            if self.y == 2:\n",
    "                self.y = self.y + 1\n",
    "            else:\n",
    "                self.y = self.y - 1\n",
    "        else:\n",
    "            RuntimeError('Error: action not recognized')\n",
    "\n",
    "        self.t = self.t + 1\n",
    "        reward = self.board[self.x, self.y]\n",
    "        self.board[self.x, self.y] = 0\n",
    "        game_over = self.t > self.max_time\n",
    "        state = np.concatenate((self.board.reshape(self.grid_size, self.grid_size,1),\n",
    "                        self.position.reshape(self.grid_size, self.grid_size,1)),axis=2)\n",
    "        state = state[self.x-2:self.x+3,self.y-2:self.y+3,:]\n",
    "\n",
    "        return state, reward, game_over\n",
    "\n",
    "    def reset(self):\n",
    "        \"\"\"This function resets the game and returns the initial state\"\"\"\n",
    "\n",
    "        self.x = np.random.randint(3, self.grid_size-3, size=1)[0]\n",
    "        self.y = np.random.randint(3, self.grid_size-3, size=1)[0]\n",
    "\n",
    "\n",
    "        bonus = 0.5*np.random.binomial(1,self.temperature,size=self.grid_size**2)\n",
    "        bonus = bonus.reshape(self.grid_size,self.grid_size)\n",
    "\n",
    "        malus = -1.0*np.random.binomial(1,self.temperature,size=self.grid_size**2)\n",
    "        malus = malus.reshape(self.grid_size, self.grid_size)\n",
    "\n",
    "        self.to_draw = np.zeros((self.max_time+2, self.grid_size*self.scale, self.grid_size*self.scale, 3))\n",
    "\n",
    "\n",
    "        malus[bonus>0]=0\n",
    "\n",
    "        self.board = bonus + malus\n",
    "\n",
    "        self.position = np.zeros((self.grid_size, self.grid_size))\n",
    "        self.position[0:2,:]= -1\n",
    "        self.position[:,0:2] = -1\n",
    "        self.position[-2:, :] = -1\n",
    "        self.position[-2:, :] = -1\n",
    "        self.board[self.x,self.y] = 0\n",
    "        self.t = 0\n",
    "\n",
    "        state = np.concatenate((\n",
    "                               self.board.reshape(self.grid_size, self.grid_size,1),\n",
    "                        self.position.reshape(self.grid_size, self.grid_size,1)),axis=2)\n",
    "\n",
    "        state = state[self.x - 2:self.x + 3, self.y - 2:self.y + 3, :]\n",
    "        return state"
   ]
  },
  {
   "cell_type": "markdown",
   "metadata": {
    "colab_type": "text",
    "id": "bh0RYFDgY7VV"
   },
   "source": [
    "The following elements are important because they correspond to the hyper parameters for this project:"
   ]
  },
  {
   "cell_type": "code",
   "execution_count": 0,
   "metadata": {
    "colab": {},
    "colab_type": "code",
    "id": "Ydgqii3TY7VW"
   },
   "outputs": [],
   "source": [
    "# parameters\n",
    "size = 13\n",
    "T=200\n",
    "temperature=0.3\n",
    "epochs_train=50 # set small when debugging\n",
    "epochs_test=20 # set small when debugging\n",
    "\n",
    "# display videos\n",
    "def display_videos(name):\n",
    "    video = io.open(name, 'r+b').read()\n",
    "    encoded = base64.b64encode(video)\n",
    "    return '''<video alt=\"test\" controls>\n",
    "                <source src=\"data:video/mp4;base64,{0}\" type=\"video/mp4\" />\n",
    "             </video>'''.format(encoded.decode('ascii'))"
   ]
  },
  {
   "cell_type": "markdown",
   "metadata": {
    "colab_type": "text",
    "id": "V7SDH_JiY7Vc"
   },
   "source": [
    "__Question 2__ Explain the use of the arrays ```position``` and ```board```."
   ]
  },
  {
   "cell_type": "markdown",
   "metadata": {
    "colab_type": "text",
    "id": "H8Bbs1XuY7Vd"
   },
   "source": [
    "position is an array of size $(grid\\_size \\times grid\\_size)$ that gives information about the position of the agent, where he cannot go (forbidden states) and the allowed states. The value is 1 where the rat is, $-1$ in the boundaries where he can't go ( $2\\times 2$ padding in the border of the grid ), and 0 everywhere else (allowed states). \n",
    "\n",
    "board is an array of size $(grid\\_size \\times grid\\_size)$ that defines the spatial distribution of the rewards on the grid. $board[x,y]$ represents the reward of getting in position (x,y). $board[x, y]=0$ if there's neither bonus nor malus in cell (x,y). It equals 0.5 if there's a cheese in the cell and -1 otherwise ( poisonous cell ). We set the reward to 0 if it is collected, i.e the state has already been visited ($\\to$ which means that board evolves over time). "
   ]
  },
  {
   "cell_type": "markdown",
   "metadata": {
    "colab_type": "text",
    "id": "a32nyZCtY7Vd"
   },
   "source": [
    "## Random Agent"
   ]
  },
  {
   "cell_type": "markdown",
   "metadata": {
    "colab_type": "text",
    "id": "8VR6_GNSY7Ve"
   },
   "source": [
    "***\n",
    "__Question 3__ Implement a random Agent (only ```learned_act``` needs to be implemented):"
   ]
  },
  {
   "cell_type": "code",
   "execution_count": 0,
   "metadata": {
    "colab": {},
    "colab_type": "code",
    "id": "zqE2qjHTY7Vf"
   },
   "outputs": [],
   "source": [
    "class RandomAgent(Agent):\n",
    "    def __init__(self):\n",
    "        super(RandomAgent, self).__init__()\n",
    "        pass\n",
    "\n",
    "    def learned_act(self, s):\n",
    "        return np.random.randint(self.n_action)"
   ]
  },
  {
   "cell_type": "markdown",
   "metadata": {
    "colab_type": "text",
    "id": "7KkRTE_8Y7Vj"
   },
   "source": [
    "***\n",
    "***\n",
    "__Question 4__ Visualize the game moves. You need to fill in the following function for the evaluation:"
   ]
  },
  {
   "cell_type": "code",
   "execution_count": 0,
   "metadata": {
    "colab": {},
    "colab_type": "code",
    "id": "ILIShO8nY7Vk"
   },
   "outputs": [],
   "source": [
    "def test(agent,env,epochs,prefix=''):\n",
    "    # Number of won games\n",
    "    score = 0        \n",
    "    for e in range(epochs):\n",
    "        state = env.reset()\n",
    "        game_over = False  # True when the game will end\n",
    "        win = 0 \n",
    "        lose = 0\n",
    "        while not game_over :\n",
    "            # The agent takes an action\n",
    "            action = agent.act(state,train=False)\n",
    "            state, reward, game_over = env.act(action)    # observe the next state and reward\n",
    "            # positive reward : win ----- negative reward : loss. \n",
    "            if reward > 0 :\n",
    "                win += reward\n",
    "            else :\n",
    "                lose -= reward\n",
    "        # Save as a mp4\n",
    "        env.draw(prefix+str(e))\n",
    "\n",
    "        # Update stats\n",
    "        score = score + win-lose\n",
    "\n",
    "        print(\"Win/lose count {}/{}. Average score ({})\"\n",
    "              .format(win, lose, score/(1+e)))\n",
    "    print('Final score: '+str(score/epochs))"
   ]
  },
  {
   "cell_type": "code",
   "execution_count": 38,
   "metadata": {
    "colab": {
     "base_uri": "https://localhost:8080/",
     "height": 650
    },
    "colab_type": "code",
    "id": "GExjk4y8Y7Vm",
    "outputId": "8f34cae3-0b9c-447b-d093-94e864c5ba37"
   },
   "outputs": [
    {
     "name": "stdout",
     "output_type": "stream",
     "text": [
      "Win/lose count 7.0/21.0. Average score (-14.0)\n",
      "Win/lose count 13.0/7.0. Average score (-4.0)\n",
      "Win/lose count 12.0/15.0. Average score (-3.6666666666666665)\n",
      "Win/lose count 10.0/14.0. Average score (-3.75)\n",
      "Win/lose count 8.0/12.0. Average score (-3.8)\n",
      "Win/lose count 12.5/16.0. Average score (-3.75)\n",
      "Win/lose count 9.0/16.0. Average score (-4.214285714285714)\n",
      "Win/lose count 12.0/11.0. Average score (-3.5625)\n",
      "Win/lose count 13.5/13.0. Average score (-3.111111111111111)\n",
      "Win/lose count 4.5/4.0. Average score (-2.75)\n",
      "Win/lose count 6.0/14.0. Average score (-3.227272727272727)\n",
      "Win/lose count 16.5/16.0. Average score (-2.9166666666666665)\n",
      "Win/lose count 8.0/9.0. Average score (-2.769230769230769)\n",
      "Win/lose count 18.0/15.0. Average score (-2.357142857142857)\n",
      "Win/lose count 12.0/10.0. Average score (-2.066666666666667)\n",
      "Win/lose count 15.0/23.0. Average score (-2.4375)\n",
      "Win/lose count 11.0/12.0. Average score (-2.3529411764705883)\n",
      "Win/lose count 16.0/19.0. Average score (-2.388888888888889)\n",
      "Win/lose count 12.0/10.0. Average score (-2.1578947368421053)\n",
      "Win/lose count 9.5/12.0. Average score (-2.175)\n",
      "Final score: -2.175\n"
     ]
    },
    {
     "data": {
      "text/html": [
       "<video alt=\"test\" controls>\n",
       "                <source src=\"data:video/mp4;base64,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\" type=\"video/mp4\" />\n",
       "             </video>"
      ],
      "text/plain": [
       "<IPython.core.display.HTML object>"
      ]
     },
     "execution_count": 38,
     "metadata": {
      "tags": []
     },
     "output_type": "execute_result"
    }
   ],
   "source": [
    "# Initialize the game\n",
    "env = Environment(grid_size=size, max_time=T,temperature=temperature)\n",
    "\n",
    "# Initialize the agent!\n",
    "agent = RandomAgent()\n",
    "\n",
    "test(agent,env,epochs_test,prefix='random')\n",
    "HTML(display_videos('random0.mp4'))"
   ]
  },
  {
   "cell_type": "markdown",
   "metadata": {
    "colab_type": "text",
    "id": "KqiF4qGAY7Vq"
   },
   "source": [
    "***\n",
    "## DQN"
   ]
  },
  {
   "cell_type": "markdown",
   "metadata": {
    "colab_type": "text",
    "id": "08AKGs63Y7Vr"
   },
   "source": [
    "Let us assume here that $T=\\infty$.\n",
    "\n",
    "***\n",
    "__Question 5__ Let $\\pi$ be a policy, show that:\n",
    "\n",
    "\\begin{equation*}\n",
    "Q^{\\pi}(s,a)=E_{(s',a')\\sim p(.|s,a)}[r(s,a)+\\gamma Q^{\\pi}(s',a')]\n",
    "\\end{equation*}\n",
    "\n",
    "Then, show that for the optimal policy $\\pi^*$ (we assume its existence), the following holds: \n",
    "\n",
    "\\begin{equation*}\n",
    "Q^{*}(s,a)=E_{s'\\sim \\pi^*(.|s,a)}[r(s,a)+\\gamma\\max_{a'}Q^{*}(s',a')].\n",
    "\\end{equation*}\n",
    "Finally, deduce that a plausible objective is:\n",
    "\n",
    "\\begin{equation*}\n",
    "\\mathcal{L}(\\theta)=E_{s' \\sim \\pi^*(.|s,a)}\\Vert r+\\gamma\\max\\max_{a'}Q(s',a',\\theta)-Q(s,a,\\theta)\\Vert^{2}.\n",
    "\\end{equation*}\n",
    "\n",
    "\n"
   ]
  },
  {
   "cell_type": "markdown",
   "metadata": {
    "colab_type": "text",
    "id": "j151Dh4hY7Vt"
   },
   "source": [
    "1. We have : \n",
    "\n",
    " $$\n",
    "\\begin{align*} \n",
    "Q^\\pi(s,a)&=E_{p^{\\pi}}[\\sum_{t=0}^{\\infty}\\gamma^{t}r(s_{t},a_{t})|s_{0}=s,a_{0}=a]\\\\\n",
    "          &=E_{p^{\\pi}}[r(s_0,a_0) + \\gamma\\sum_{t=1}^{\\infty}\\gamma^{t}r(s_{t},a_{t})|s_{0}=s,a_{0}=a]\\\\\n",
    "          &=r(s,a) + \\sum_{s',a'} p(s',a'|s,a) E_{p^{\\pi}}[\\sum_{t=1}^{\\infty}\\gamma^{t}r(s_{t},a_{t})|s_1 = s', a_1 = a', s_{0}=s,a_{0}=a]\\\\\n",
    "          &=r(s,a) + \\gamma \\sum_{s',a'} p(s',a'|s,a) E_{p^{\\pi}}[\\sum_{t=1}^{\\infty}\\gamma^{t-1}r(s_{t},a_{t})|s_1 = s', a_1 = a']  \\text{ $\\to$ (Markov property) } \\\\\n",
    "          &=r(s,a) + \\gamma \\sum_{s',a'} p(s',a'|s,a) Q^\\pi(s',a') \\\\\n",
    "          &=r(s,a) + \\gamma E_{(s',a')\\sim p(.|s,a)}( Q^\\pi(s',a')) \\\\\n",
    "          &=E_{(s',a')\\sim p(.|s,a)}\\left(r(s,a) + \\gamma Q^{\\pi}(s',a') \\right)\\\\\n",
    "\\end{align*}\n",
    "$$\n",
    "\n",
    "2. Let $\\pi^*$ be an optimal policy. Assume that $\\pi^*$ is deterministic (indeed if optimal policy exists, there is also a deterministic optimal policy).  Using the fact that $\\pi^*$ is optimal ($\\pi'$ such that $\\pi^*=(a, \\pi^{'})$ is optimal as well) , We have :\n",
    "\n",
    " $$\n",
    "\\begin{align*} \n",
    "Q^*(s,a)&= Q^{\\pi^*}(s,a) \\\\\n",
    "        &= \\max_{\\pi}E_{(s',a')\\sim p(.|s,a)}\\left(r(s,a) + \\gamma Q^{\\pi}(s',a') \\right)\\\\\n",
    "        &= \\max_{\\pi} E_{s'\\sim p(.|s,a), a' \\sim \\pi(.|s')}\\left(r(s,a) + \\gamma Q^{\\pi}(s',a') \\right)\\\\\n",
    "        &= E_{s'\\sim p(.|s,a), a' \\sim \\pi^*(.|s')}\\left(r(s,a) + \\gamma Q^{\\pi^*}(s',a') \\right) \\text{$\\to$  [ $\\pi'$ such that $\\pi^*=(a, \\pi^{'})$ is optimal}]\\\\\n",
    "        & = E_{s'\\sim p(.|s,a)}\\left(r(s,a) + \\gamma \\max_{a'} Q^{\\pi^*}(s',a') \\right)\\text{ $\\to$ $\\pi^*$ is a determinitic policy } \\\\\n",
    "        & = E_{s'\\sim p(.|s,a)}\\left(r(s,a) + \\gamma \\max_{a'} Q^{*}(s',a') \\right)\n",
    "\\end{align*}\\\\       \n",
    "$$\n",
    "\n",
    "3. Let define the Bellman operator $T$ (which is contractant) such that: \n",
    " $$\n",
    "\\begin{align*}\n",
    "TQ(s,a) &=  E_{s'\\sim p(.|s,a)}[r(s,a)+\\gamma \\max_{a'}Q(s',a')] \\\\\n",
    "\\end{align*}\\\\       \n",
    "$$\n",
    "\n",
    "$Q^*$ verifies the equation $TQ = Q$. \n",
    "\n",
    "So a plausible objective is  one that enforces the optimal Q-function to satisfy the bellman equation. \n",
    "\n",
    "Let parametrise Q by a parameter $\\theta$. We are looking to minimize the squared error loss $(Q^*(s,a)-Q_\\theta(s,a))^2$. However, $Q^*(s,a)$ is unknown, so we replace it at each step t by an estimate $y_t = TQ_{\\theta_{t-1}}$ such that : \n",
    "$TQ_{\\theta_{t-1}}(s,a) =  E_{s'\\sim p(.|s,a)}[r(s,a)+\\gamma \\max_{a'}Q_{\\theta_{t-1}}(s',a')]$. \n",
    "\n",
    "One plausible choice is to minimize the quantitiy : $E[(r(s,a) + \\gamma \\max_{a'}Q_{\\theta_{t-1}}(s',a') - Q_{\\theta_{t}}(s,a))^2]$. As we are working in a continuous setting ( DQN : using gradient descent to solve the problem), we can switch from the discret $\\theta_t$ to a continuous $\\theta$. \n",
    "\n",
    "Hence, we deduce that : \n",
    "\n",
    "\\begin{equation*}\n",
    "\\mathcal{L}(\\theta)=E_{s' \\sim \\pi^*(.|s,a)}\\Vert r+\\gamma \\max_{a'}Q(s',a',\\theta)-Q(s,a,\\theta)\\Vert^{2}.\n",
    "\\end{equation*}\n",
    "\n",
    "is a plausible objective function for this task. "
   ]
  },
  {
   "cell_type": "markdown",
   "metadata": {
    "colab_type": "text",
    "id": "NwL6-vAzY7Vu"
   },
   "source": [
    "***\n",
    "The DQN-learning algorithm relies on these derivations to train the parameters $\\theta$ of a Deep Neural Network:\n",
    "\n",
    "1. At the state $s_t$, select the action $a_t$ with best reward using $Q_t$ and store the results;\n",
    "\n",
    "2. Obtain the new state $s_{t+1}$ from the environment $p$;\n",
    "\n",
    "3. Store $(s_t,a_t,s_{t+1})$;\n",
    "\n",
    "4. Obtain $Q_{t+1}$ by minimizing  $\\mathcal{L}$ from a recovered batch from the previously stored results.\n",
    "\n",
    "***\n",
    "__Question 6__ Implement the class ```Memory``` that stores moves (in a replay buffer) via ```remember``` and provides a ```random_access``` to these. Specify a maximum memory size to avoid side effects. You can for example use a ```list()``` and set by default ```max_memory=100```."
   ]
  },
  {
   "cell_type": "code",
   "execution_count": 0,
   "metadata": {
    "colab": {},
    "colab_type": "code",
    "id": "Y5JTnvxRY7Vu"
   },
   "outputs": [],
   "source": [
    "\"\"\"Here, I used a collections.deque as it can deal with max_memory by deleating the eldest element when \n",
    "            the max memory is reached and replacing it by the new arriving element. \"\"\"\n",
    "from collections import deque\n",
    "\n",
    "\n",
    "class Memory(object):\n",
    "    def __init__(self, max_memory=100):\n",
    "        self.max_memory = max_memory\n",
    "        self.memory = deque(maxlen = self.max_memory) \n",
    "\n",
    "    def remember(self, m):\n",
    "        self.memory.append(m)\n",
    "\n",
    "    def random_access(self):\n",
    "        random_idx = np.random.randint(len(self.memory))\n",
    "        return self.memory[random_idx]"
   ]
  },
  {
   "cell_type": "markdown",
   "metadata": {
    "colab_type": "text",
    "id": "kqTA6c9mY7V0"
   },
   "source": [
    "***\n",
    "The pipeline we will use for training is given below:"
   ]
  },
  {
   "cell_type": "code",
   "execution_count": 0,
   "metadata": {
    "colab": {},
    "colab_type": "code",
    "id": "jRqxGTD4Y7V1"
   },
   "outputs": [],
   "source": [
    "def train(agent,env,epoch,prefix=''):\n",
    "    # Number of won games\n",
    "    score = 0\n",
    "    loss = 0\n",
    "\n",
    "    for e in range(epoch):\n",
    "        # At each epoch, we restart to a fresh game and get the initial state\n",
    "        state = env.reset()\n",
    "        # This assumes that the games will terminate\n",
    "        game_over = False\n",
    "\n",
    "        win = 0\n",
    "        lose = 0\n",
    "\n",
    "        while not game_over:\n",
    "            # The agent performs an action\n",
    "            action = agent.act(state, train = True )\n",
    "\n",
    "            # Apply an action to the environment, get the next state, the reward\n",
    "            # and if the games end\n",
    "            prev_state = state\n",
    "            state, reward, game_over = env.act(action)\n",
    "\n",
    "            # Update the counters\n",
    "            if reward > 0:\n",
    "                win = win + reward\n",
    "            if reward < 0:\n",
    "                lose = lose -reward\n",
    "\n",
    "            # Apply the reinforcement strategy\n",
    "            loss = agent.reinforce(prev_state, state,  action, reward, game_over)\n",
    "\n",
    "        # Save as a mp4\n",
    "        if e % 10 == 0:\n",
    "            env.draw(prefix+str(e))\n",
    "            \n",
    "        # Update stats\n",
    "        score += win-lose\n",
    "\n",
    "        print(\"Epoch {:03d}/{:03d} | Loss {:.4f} | Win/lose count {}/{} ({})\"\n",
    "              .format(e, epoch, loss, win, lose, win-lose))\n",
    "        agent.save(name_weights=prefix+'model.h5',name_model=prefix+'model.json')"
   ]
  },
  {
   "cell_type": "markdown",
   "metadata": {
    "colab_type": "text",
    "id": "6kOFaT1mY7V5"
   },
   "source": [
    "***\n",
    "__Question 7__ Implement the DQN training algorithm using a cascade of fully connected layers. You can use different learning rate, batch size or memory size parameters. In particular, the loss might oscillate while the player will start to win the games. You have to find a good criterium."
   ]
  },
  {
   "cell_type": "code",
   "execution_count": 0,
   "metadata": {
    "colab": {},
    "colab_type": "code",
    "id": "glO8DVpzY7V7"
   },
   "outputs": [],
   "source": [
    "class DQN(Agent):\n",
    "    def __init__(self, grid_size,  epsilon = 0.1, memory_size=100, batch_size = 16,n_state=2):\n",
    "        super(DQN, self).__init__(epsilon = epsilon)\n",
    "\n",
    "        # Discount for Q learning\n",
    "        self.discount = 0.99\n",
    "        \n",
    "        self.grid_size = grid_size\n",
    "        \n",
    "        # number of state\n",
    "        self.n_state = n_state\n",
    "\n",
    "        # Memory\n",
    "        self.memory = Memory(memory_size)\n",
    "        \n",
    "        # Batch size when learning\n",
    "        self.batch_size = batch_size\n",
    "\n",
    "\n",
    "    def learned_act(self, s):\n",
    "        return np.argmax(self.model.predict(np.expand_dims(s, axis=0)))\n",
    "                \n",
    "    def reinforce(self, s_, n_s_, a_, r_, game_over_):\n",
    "        # Two steps: first memorize the states, second learn from the pool\n",
    "\n",
    "        self.memory.remember([s_, n_s_, a_, r_, game_over_])\n",
    "        \n",
    "        input_states = np.zeros((self.batch_size, 5,5,self.n_state))\n",
    "        target_q = np.zeros((self.batch_size, 4))\n",
    "        \n",
    "        for i in range(self.batch_size):\n",
    "            ######## FILL IN\n",
    "            s_, n_s_, a_, r_, game_over_ = self.memory.random_access()\n",
    "            \n",
    "            # store the sampled state \n",
    "            input_states[i] = s_ \n",
    "            target_q[i] = self.model.predict(np.expand_dims(s_, axis=0))\n",
    "            \n",
    "            if game_over_:\n",
    "                ######## FILL IN\n",
    "                target_q[i, a_] = r_\n",
    "            else:\n",
    "                ######## FILL IN\n",
    "                target_q[i, a_] = r_ + self.discount* np.max(self.model.predict(np.expand_dims(n_s_, axis=0)))\n",
    "\n",
    "        ######## FILL IN\n",
    "        # HINT: Clip the target to avoid exploiding gradients.. -- clipping is a bit tighter\n",
    "        target_q = np.clip(target_q, -3, 3)\n",
    "        l = self.model.train_on_batch(input_states, target_q)\n",
    "        return l\n",
    "\n",
    "    def save(self,name_weights='model.h5',name_model='model.json'):\n",
    "        self.model.save_weights(name_weights, overwrite=True)\n",
    "        with open(name_model, \"w\") as outfile:\n",
    "            json.dump(self.model.to_json(), outfile)\n",
    "            \n",
    "    def load(self,name_weights='model.h5',name_model='model.json'):\n",
    "        with open(name_model, \"r\") as jfile:\n",
    "            model = model_from_json(json.load(jfile))\n",
    "        model.load_weights(name_weights)\n",
    "        model.compile(\"sgd\", \"mse\")\n",
    "        self.model = model\n",
    "\n",
    "class DQN_FC(DQN):\n",
    "    def __init__(self, *args, lr=0.1,**kwargs):\n",
    "        super(DQN_FC, self).__init__( *args,**kwargs)\n",
    "        \n",
    "        # NN Model\n",
    "        ####### FILL IN\n",
    "        model = Sequential()\n",
    "        model.add(Flatten(input_shape=(5, 5, self.n_state, )))\n",
    "        model.add(Dense(48,activation ='relu')) \n",
    "        model.add(Dropout(0.1))\n",
    "        model.add(Dense(32,activation ='relu')) \n",
    "        model.add(Dropout(0.1))\n",
    "        model.add(Dense(4))\n",
    "        \n",
    "        model.compile(sgd(lr=lr, decay=1e-4, momentum=0.0), \"mse\")\n",
    "        #model.compile(Adam(lr=lr, beta_1=0.9, beta_2=0.999, epsilon=None, decay=0.0, amsgrad=False), \"mse\")\n",
    "        self.model = model\n"
   ]
  },
  {
   "cell_type": "code",
   "execution_count": 62,
   "metadata": {
    "colab": {
     "base_uri": "https://localhost:8080/",
     "height": 1000
    },
    "colab_type": "code",
    "id": "ToiMRFXJXerI",
    "outputId": "c4848b2c-2b80-4f98-da64-690585fa0d2a"
   },
   "outputs": [
    {
     "name": "stdout",
     "output_type": "stream",
     "text": [
      "Epoch 000/050 | Loss 0.0043 | Win/lose count 3.0/4.0 (-1.0)\n",
      "Epoch 001/050 | Loss 0.0162 | Win/lose count 4.5/5.0 (-0.5)\n",
      "Epoch 002/050 | Loss 0.0299 | Win/lose count 2.5/0 (2.5)\n",
      "Epoch 003/050 | Loss 0.0741 | Win/lose count 3.5/0 (3.5)\n",
      "Epoch 004/050 | Loss 0.0037 | Win/lose count 1.0/2.0 (-1.0)\n",
      "Epoch 005/050 | Loss 0.0023 | Win/lose count 2.5/3.0 (-0.5)\n",
      "Epoch 006/050 | Loss 0.0089 | Win/lose count 2.5/3.0 (-0.5)\n",
      "Epoch 007/050 | Loss 0.0577 | Win/lose count 2.5/1.0 (1.5)\n",
      "Epoch 008/050 | Loss 0.0510 | Win/lose count 3.5/7.0 (-3.5)\n",
      "Epoch 009/050 | Loss 0.0053 | Win/lose count 3.5/4.0 (-0.5)\n",
      "Epoch 010/050 | Loss 0.0055 | Win/lose count 4.5/4.0 (0.5)\n",
      "Epoch 011/050 | Loss 0.0644 | Win/lose count 6.0/3.0 (3.0)\n",
      "Epoch 012/050 | Loss 0.0066 | Win/lose count 4.5/3.0 (1.5)\n",
      "Epoch 013/050 | Loss 0.0007 | Win/lose count 6.0/4.0 (2.0)\n",
      "Epoch 014/050 | Loss 0.0107 | Win/lose count 5.0/7.0 (-2.0)\n",
      "Epoch 015/050 | Loss 0.0063 | Win/lose count 1.0/1.0 (0.0)\n",
      "Epoch 016/050 | Loss 0.0019 | Win/lose count 5.0/2.0 (3.0)\n",
      "Epoch 017/050 | Loss 0.0051 | Win/lose count 2.5/4.0 (-1.5)\n",
      "Epoch 018/050 | Loss 0.0065 | Win/lose count 4.5/3.0 (1.5)\n",
      "Epoch 019/050 | Loss 0.0034 | Win/lose count 6.0/5.0 (1.0)\n",
      "Epoch 020/050 | Loss 0.0014 | Win/lose count 6.0/3.0 (3.0)\n",
      "Epoch 021/050 | Loss 0.0078 | Win/lose count 1.0/7.0 (-6.0)\n",
      "Epoch 022/050 | Loss 0.0170 | Win/lose count 4.0/2.0 (2.0)\n",
      "Epoch 023/050 | Loss 0.0036 | Win/lose count 3.0/4.0 (-1.0)\n",
      "Epoch 024/050 | Loss 0.0026 | Win/lose count 5.5/2.0 (3.5)\n",
      "Epoch 025/050 | Loss 0.0103 | Win/lose count 7.0/2.0 (5.0)\n",
      "Epoch 026/050 | Loss 0.0053 | Win/lose count 5.0/0 (5.0)\n",
      "Epoch 027/050 | Loss 0.0023 | Win/lose count 7.0/6.0 (1.0)\n",
      "Epoch 028/050 | Loss 0.0461 | Win/lose count 1.5/3.0 (-1.5)\n",
      "Epoch 029/050 | Loss 0.0032 | Win/lose count 3.0/4.0 (-1.0)\n",
      "Epoch 030/050 | Loss 0.0024 | Win/lose count 5.5/1.0 (4.5)\n",
      "Epoch 031/050 | Loss 0.0043 | Win/lose count 4.0/2.0 (2.0)\n",
      "Epoch 032/050 | Loss 0.0071 | Win/lose count 11.0/4.0 (7.0)\n",
      "Epoch 033/050 | Loss 0.0020 | Win/lose count 5.0/3.0 (2.0)\n",
      "Epoch 034/050 | Loss 0.0678 | Win/lose count 11.5/2.0 (9.5)\n",
      "Epoch 035/050 | Loss 0.0563 | Win/lose count 16.5/4.0 (12.5)\n",
      "Epoch 036/050 | Loss 0.0033 | Win/lose count 8.0/1.0 (7.0)\n",
      "Epoch 037/050 | Loss 0.0082 | Win/lose count 14.5/3.0 (11.5)\n",
      "Epoch 038/050 | Loss 0.0020 | Win/lose count 9.0/5.0 (4.0)\n",
      "Epoch 039/050 | Loss 0.0072 | Win/lose count 9.0/2.0 (7.0)\n",
      "Epoch 040/050 | Loss 0.0053 | Win/lose count 7.0/2.0 (5.0)\n",
      "Epoch 041/050 | Loss 0.0095 | Win/lose count 3.5/1.0 (2.5)\n",
      "Epoch 042/050 | Loss 0.0520 | Win/lose count 4.5/3.0 (1.5)\n",
      "Epoch 043/050 | Loss 0.0025 | Win/lose count 10.5/2.0 (8.5)\n",
      "Epoch 044/050 | Loss 0.0044 | Win/lose count 13.5/3.0 (10.5)\n",
      "Epoch 045/050 | Loss 0.0015 | Win/lose count 12.5/0 (12.5)\n",
      "Epoch 046/050 | Loss 0.0085 | Win/lose count 16.0/2.0 (14.0)\n",
      "Epoch 047/050 | Loss 0.0031 | Win/lose count 9.5/1.0 (8.5)\n",
      "Epoch 048/050 | Loss 0.0549 | Win/lose count 12.5/4.0 (8.5)\n",
      "Epoch 049/050 | Loss 0.0039 | Win/lose count 20.0/2.0 (18.0)\n"
     ]
    },
    {
     "data": {
      "text/html": [
       "<video alt=\"test\" controls>\n",
       "                <source src=\"data:video/mp4;base64,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\" type=\"video/mp4\" />\n",
       "             </video>"
      ],
      "text/plain": [
       "<IPython.core.display.HTML object>"
      ]
     },
     "execution_count": 62,
     "metadata": {
      "tags": []
     },
     "output_type": "execute_result"
    }
   ],
   "source": [
    "env = Environment(grid_size=size, max_time=T, temperature=0.3)\n",
    "agent = DQN_FC(size, lr=.1, epsilon = 0.1, memory_size=2000, batch_size = 32)\n",
    "train(agent,env,epochs_train,prefix='fc_train')\n",
    "HTML(display_videos('fc_train10.mp4'))"
   ]
  },
  {
   "cell_type": "markdown",
   "metadata": {
    "colab_type": "text",
    "id": "CtEnwUKrc_HD"
   },
   "source": [
    "I tried different experiments with different parameters and finally we retain the parameter of the previous experience ( Actually, the settings by defaut in the homework are the best ones). \n"
   ]
  },
  {
   "cell_type": "markdown",
   "metadata": {
    "colab_type": "text",
    "id": "3atUmzlzY7WD"
   },
   "source": [
    "***\n",
    "***\n",
    "__Question 8__ Implement the DQN training algorithm using a CNN (for example, 2 convolutional layers and one final fully connected layer)."
   ]
  },
  {
   "cell_type": "code",
   "execution_count": 0,
   "metadata": {
    "colab": {},
    "colab_type": "code",
    "id": "hfu-MvrJY7WE"
   },
   "outputs": [],
   "source": [
    "class DQN_CNN(DQN):\n",
    "    def __init__(self, *args,lr=0.1,**kwargs):\n",
    "        super(DQN_CNN, self).__init__(*args,**kwargs)\n",
    "        \n",
    "        ###### FILL IN\n",
    "        model = Sequential()\n",
    "        model.add(Conv2D(64,(2,2),input_shape=(5,5,self.n_state,),activation='relu'))\n",
    "        model.add(Conv2D(32,(2,2),activation='relu'))\n",
    "        model.add(Flatten())\n",
    "        model.add(Dense(units = 4))\n",
    "        \n",
    "        model.compile(sgd(lr=lr, decay=1e-4, momentum=0.0), \"mse\")\n",
    "        self.model = model"
   ]
  },
  {
   "cell_type": "code",
   "execution_count": 70,
   "metadata": {
    "colab": {
     "base_uri": "https://localhost:8080/",
     "height": 1000
    },
    "colab_type": "code",
    "id": "Y49CZJvCY7WH",
    "outputId": "6d92815f-df90-4376-d7b2-597e7130b1a8"
   },
   "outputs": [
    {
     "name": "stdout",
     "output_type": "stream",
     "text": [
      "Epoch 000/050 | Loss 0.0004 | Win/lose count 1.0/4.0 (-3.0)\n",
      "Epoch 001/050 | Loss 0.0002 | Win/lose count 2.0/3.0 (-1.0)\n",
      "Epoch 002/050 | Loss 0.0037 | Win/lose count 3.5/2.0 (1.5)\n",
      "Epoch 003/050 | Loss 0.0006 | Win/lose count 5.5/2.0 (3.5)\n",
      "Epoch 004/050 | Loss 0.0009 | Win/lose count 3.0/3.0 (0.0)\n",
      "Epoch 005/050 | Loss 0.0035 | Win/lose count 7.0/5.0 (2.0)\n",
      "Epoch 006/050 | Loss 0.0021 | Win/lose count 2.0/2.0 (0.0)\n",
      "Epoch 007/050 | Loss 0.0046 | Win/lose count 2.0/5.0 (-3.0)\n",
      "Epoch 008/050 | Loss 0.0027 | Win/lose count 1.5/2.0 (-0.5)\n",
      "Epoch 009/050 | Loss 0.0016 | Win/lose count 3.5/2.0 (1.5)\n",
      "Epoch 010/050 | Loss 0.1578 | Win/lose count 7.5/3.0 (4.5)\n",
      "Epoch 011/050 | Loss 0.0032 | Win/lose count 13.0/3.0 (10.0)\n",
      "Epoch 012/050 | Loss 0.0029 | Win/lose count 13.0/2.0 (11.0)\n",
      "Epoch 013/050 | Loss 0.0024 | Win/lose count 10.0/1.0 (9.0)\n",
      "Epoch 014/050 | Loss 0.0029 | Win/lose count 1.0/3.0 (-2.0)\n",
      "Epoch 015/050 | Loss 0.0010 | Win/lose count 9.0/3.0 (6.0)\n",
      "Epoch 016/050 | Loss 0.0534 | Win/lose count 7.5/1.0 (6.5)\n",
      "Epoch 017/050 | Loss 0.0011 | Win/lose count 2.5/1.0 (1.5)\n",
      "Epoch 018/050 | Loss 0.0019 | Win/lose count 16.5/1.0 (15.5)\n",
      "Epoch 019/050 | Loss 0.0045 | Win/lose count 11.0/2.0 (9.0)\n",
      "Epoch 020/050 | Loss 0.0013 | Win/lose count 5.0/3.0 (2.0)\n",
      "Epoch 021/050 | Loss 0.0556 | Win/lose count 7.5/4.0 (3.5)\n",
      "Epoch 022/050 | Loss 0.0012 | Win/lose count 15.0/4.0 (11.0)\n",
      "Epoch 023/050 | Loss 0.0022 | Win/lose count 9.0/1.0 (8.0)\n",
      "Epoch 024/050 | Loss 0.0020 | Win/lose count 10.0/2.0 (8.0)\n",
      "Epoch 025/050 | Loss 0.0024 | Win/lose count 15.5/2.0 (13.5)\n",
      "Epoch 026/050 | Loss 0.0019 | Win/lose count 16.0/0 (16.0)\n",
      "Epoch 027/050 | Loss 0.0599 | Win/lose count 10.0/4.0 (6.0)\n",
      "Epoch 028/050 | Loss 0.0023 | Win/lose count 13.5/4.0 (9.5)\n",
      "Epoch 029/050 | Loss 0.0035 | Win/lose count 7.0/2.0 (5.0)\n",
      "Epoch 030/050 | Loss 0.0009 | Win/lose count 28.5/1.0 (27.5)\n",
      "Epoch 031/050 | Loss 0.0035 | Win/lose count 12.5/7.0 (5.5)\n",
      "Epoch 032/050 | Loss 0.0015 | Win/lose count 13.5/1.0 (12.5)\n",
      "Epoch 033/050 | Loss 0.0023 | Win/lose count 24.0/2.0 (22.0)\n",
      "Epoch 034/050 | Loss 0.0010 | Win/lose count 16.5/4.0 (12.5)\n",
      "Epoch 035/050 | Loss 0.0020 | Win/lose count 17.0/4.0 (13.0)\n",
      "Epoch 036/050 | Loss 0.0016 | Win/lose count 21.0/2.0 (19.0)\n",
      "Epoch 037/050 | Loss 0.0032 | Win/lose count 12.5/3.0 (9.5)\n",
      "Epoch 038/050 | Loss 0.0018 | Win/lose count 11.5/5.0 (6.5)\n",
      "Epoch 039/050 | Loss 0.0024 | Win/lose count 15.0/5.0 (10.0)\n",
      "Epoch 040/050 | Loss 0.0033 | Win/lose count 19.0/3.0 (16.0)\n",
      "Epoch 041/050 | Loss 0.0023 | Win/lose count 13.5/7.0 (6.5)\n",
      "Epoch 042/050 | Loss 0.0036 | Win/lose count 14.5/2.0 (12.5)\n",
      "Epoch 043/050 | Loss 0.0020 | Win/lose count 15.5/3.0 (12.5)\n",
      "Epoch 044/050 | Loss 0.0031 | Win/lose count 22.0/2.0 (20.0)\n",
      "Epoch 045/050 | Loss 0.0022 | Win/lose count 11.5/3.0 (8.5)\n",
      "Epoch 046/050 | Loss 0.0558 | Win/lose count 21.5/2.0 (19.5)\n",
      "Epoch 047/050 | Loss 0.0027 | Win/lose count 8.5/2.0 (6.5)\n",
      "Epoch 048/050 | Loss 0.0027 | Win/lose count 15.5/6.0 (9.5)\n",
      "Epoch 049/050 | Loss 0.0474 | Win/lose count 16.5/4.0 (12.5)\n"
     ]
    },
    {
     "data": {
      "text/html": [
       "<video alt=\"test\" controls>\n",
       "                <source src=\"data:video/mp4;base64,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\" type=\"video/mp4\" />\n",
       "             </video>"
      ],
      "text/plain": [
       "<IPython.core.display.HTML object>"
      ]
     },
     "execution_count": 70,
     "metadata": {
      "tags": []
     },
     "output_type": "execute_result"
    }
   ],
   "source": [
    "env = Environment(grid_size=size, max_time=T, temperature=0.3)\n",
    "agent = DQN_CNN(size, lr=.1, epsilon = 0.1, memory_size=2000, batch_size = 32)\n",
    "train(agent,env,epochs_train,prefix='cnn_train')\n",
    "HTML(display_videos('cnn_train10.mp4'))"
   ]
  },
  {
   "cell_type": "markdown",
   "metadata": {
    "colab_type": "text",
    "id": "jtE2YhjBY7WJ"
   },
   "source": [
    "***\n",
    "***\n",
    "__Question 9__ Test both algorithms and compare their performances. Which issue(s) do you observe? Observe also different behaviors by changing the temperature."
   ]
  },
  {
   "cell_type": "code",
   "execution_count": 66,
   "metadata": {
    "colab": {
     "base_uri": "https://localhost:8080/",
     "height": 765
    },
    "colab_type": "code",
    "id": "aZkpEAY_Y7WK",
    "outputId": "49cdb938-d291-4d39-b1d8-f33fb65973a7"
   },
   "outputs": [
    {
     "name": "stdout",
     "output_type": "stream",
     "text": [
      "Test of the CNN\n",
      "Win/lose count 1.5/0.0. Average score (1.5)\n",
      "Win/lose count 0.5/0.0. Average score (1.0)\n",
      "Win/lose count 4.0/1.0. Average score (1.6666666666666667)\n",
      "Win/lose count 3.0/0.0. Average score (2.0)\n",
      "Win/lose count 5.0/1.0. Average score (2.4)\n",
      "Win/lose count 2.5/1.0. Average score (2.25)\n",
      "Win/lose count 4.0/0.0. Average score (2.5)\n",
      "Win/lose count 2.0/0.0. Average score (2.4375)\n",
      "Win/lose count 0/0.0. Average score (2.1666666666666665)\n",
      "Win/lose count 6.5/0.0. Average score (2.6)\n",
      "Win/lose count 9.5/0.0. Average score (3.227272727272727)\n",
      "Win/lose count 3.0/0.0. Average score (3.2083333333333335)\n",
      "Win/lose count 1.0/0.0. Average score (3.0384615384615383)\n",
      "Win/lose count 0/0.0. Average score (2.8214285714285716)\n",
      "Win/lose count 5.0/0.0. Average score (2.966666666666667)\n",
      "Win/lose count 7.5/0.0. Average score (3.25)\n",
      "Win/lose count 2.0/0.0. Average score (3.176470588235294)\n",
      "Win/lose count 2.0/0.0. Average score (3.111111111111111)\n",
      "Win/lose count 4.0/0.0. Average score (3.1578947368421053)\n",
      "Win/lose count 9.0/0.0. Average score (3.45)\n",
      "Final score: 3.45\n",
      "Test of the FC\n",
      "Win/lose count 1.0/1.0. Average score (0.0)\n",
      "Win/lose count 1.0/1.0. Average score (0.0)\n",
      "Win/lose count 0/2.0. Average score (-0.6666666666666666)\n",
      "Win/lose count 1.0/1.0. Average score (-0.5)\n",
      "Win/lose count 1.0/1.0. Average score (-0.4)\n",
      "Win/lose count 0/0.0. Average score (-0.3333333333333333)\n",
      "Win/lose count 0.5/0.0. Average score (-0.21428571428571427)\n",
      "Win/lose count 0/0.0. Average score (-0.1875)\n",
      "Win/lose count 1.0/2.0. Average score (-0.2777777777777778)\n",
      "Win/lose count 0.5/4.0. Average score (-0.6)\n",
      "Win/lose count 0/0.0. Average score (-0.5454545454545454)\n",
      "Win/lose count 0/2.0. Average score (-0.6666666666666666)\n",
      "Win/lose count 0/1.0. Average score (-0.6923076923076923)\n",
      "Win/lose count 1.5/2.0. Average score (-0.6785714285714286)\n",
      "Win/lose count 2.0/1.0. Average score (-0.5666666666666667)\n",
      "Win/lose count 0/0.0. Average score (-0.53125)\n",
      "Win/lose count 0.5/1.0. Average score (-0.5294117647058824)\n",
      "Win/lose count 0.5/0.0. Average score (-0.4722222222222222)\n",
      "Win/lose count 0/1.0. Average score (-0.5)\n",
      "Win/lose count 1.5/1.0. Average score (-0.45)\n",
      "Final score: -0.45\n"
     ]
    }
   ],
   "source": [
    "env = Environment(grid_size=size, max_time=T,temperature=0.3)\n",
    "agent_cnn = DQN_CNN(size, lr=.1, epsilon = 0.1, memory_size=2000, batch_size = 32)\n",
    "agent_cnn.load(name_weights='cnn_trainmodel.h5',name_model='cnn_trainmodel.json')\n",
    "\n",
    "agent_fc = DQN_FC(size, lr=.1, epsilon = 0.1, memory_size=2000, batch_size = 32)\n",
    "agent_cnn.load(name_weights='fc_trainmodel.h5',name_model='fc_trainmodel.json')\n",
    "print('Test of the CNN')\n",
    "test(agent_cnn,env,epochs_test,prefix='cnn_test')\n",
    "print('Test of the FC')\n",
    "test(agent_fc,env,epochs_test,prefix='fc_test')"
   ]
  },
  {
   "cell_type": "code",
   "execution_count": 76,
   "metadata": {
    "colab": {
     "base_uri": "https://localhost:8080/",
     "height": 293
    },
    "colab_type": "code",
    "id": "hI_MEo8ZY7WP",
    "outputId": "5bb14536-b3f7-4c02-f690-3ce7ea4f6771"
   },
   "outputs": [
    {
     "data": {
      "text/html": [
       "<video alt=\"test\" controls>\n",
       "                <source src=\"data:video/mp4;base64,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\" type=\"video/mp4\" />\n",
       "             </video>"
      ],
      "text/plain": [
       "<IPython.core.display.HTML object>"
      ]
     },
     "execution_count": 76,
     "metadata": {
      "tags": []
     },
     "output_type": "execute_result"
    }
   ],
   "source": [
    "HTML(display_videos('fc_test10.mp4'))"
   ]
  },
  {
   "cell_type": "code",
   "execution_count": 77,
   "metadata": {
    "colab": {
     "base_uri": "https://localhost:8080/",
     "height": 293
    },
    "colab_type": "code",
    "id": "aumWQOqbY7WS",
    "outputId": "7e79b42e-0c65-4d63-8c5c-b02ae7dd06c9"
   },
   "outputs": [
    {
     "data": {
      "text/html": [
       "<video alt=\"test\" controls>\n",
       "                <source src=\"data:video/mp4;base64,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\" type=\"video/mp4\" />\n",
       "             </video>"
      ],
      "text/plain": [
       "<IPython.core.display.HTML object>"
      ]
     },
     "execution_count": 77,
     "metadata": {
      "tags": []
     },
     "output_type": "execute_result"
    }
   ],
   "source": [
    "HTML(display_videos('cnn_test10.mp4'))"
   ]
  },
  {
   "cell_type": "markdown",
   "metadata": {
    "colab_type": "text",
    "id": "okvYIbDgY7WV"
   },
   "source": [
    "The main issue is that the agent tends to quickly get stuck in loops ( left-right or up-down loop ) : this is the case especially when there is no positive reward around the agent ( Especially when the temperature is low, the agent cannot observe positive rewards around him  ). He lacks indeed exploration of the state space. \n",
    "\n",
    "We notice also that the performance using the architecture with CNN is widely better than the one obtained using  fully connected networks (which does not perfom well on the task).\n",
    "\n",
    "When increasing the temperature, the score of the agent improves. We notice that he tends to explore more as the temperature gets higher (since positive rewards are almost always visible for him).\n",
    "\n",
    "The table below summarises some results ( the networks were tranined on temperature = 0.3. The results can vary because of randomness, they are given just to get an idea about how much CNN outperforms FCN ) :\n",
    "\n",
    "|Temperature|FC average Test score|CNN Test average score |\n",
    "|----|-----|----|\n",
    "|0.1|-0.55|1.25|\n",
    "|0.3|-0.32|3.125|\n",
    "|0.5|0.54|7.3|\n",
    "|0.9|2.475|18.025|\n",
    "\n",
    "The score of the two models (fcn and cnn)  improves with the temperature and so does the gap between the scores of the two architectures. "
   ]
  },
  {
   "cell_type": "markdown",
   "metadata": {
    "colab_type": "text",
    "id": "eo4pp-xhY7WV"
   },
   "source": [
    "***\n",
    "\n",
    "The algorithm tends to not explore the map which can be an issue. We propose two ideas in order to encourage exploration:\n",
    "1. Incorporating a decreasing $\\epsilon$-greedy exploration. You can use the method ```set_epsilon```\n",
    "2. Append via the environment a new state that describes if a cell has been visited or not\n",
    "\n",
    "***\n",
    "__Question 10__ Design a new ```train_explore``` function and environment class ```EnvironmentExploring``` to tackle the issue of exploration.\n",
    "\n"
   ]
  },
  {
   "cell_type": "code",
   "execution_count": 0,
   "metadata": {
    "colab": {},
    "colab_type": "code",
    "id": "s24QgiafY7WW"
   },
   "outputs": [],
   "source": [
    "def train_explore(agent,env,epoch,prefix=''):\n",
    "    \n",
    "    # Number of won games\n",
    "    score = 0\n",
    "    loss = 0\n",
    "    '''\n",
    "    We start from a given epsilon and we decrease it exponentially after each epoch to reach \n",
    "    approximately 0.1 by the end.                                                                                                                      \n",
    "    \"T\" will be used to avoid converging to eps = 0.1  very quickly --> to slow down the \n",
    "    decrease of epsilon (we favour more exploration). \n",
    "    '''\n",
    "    start_eps = agent.epsilon\n",
    "    T = epoch/10   \n",
    "    \n",
    "    for e in range(epoch):\n",
    "        state = env.reset()\n",
    "        game_over = False\n",
    "\n",
    "        win = 0\n",
    "        lose = 0\n",
    "        eps = (start_eps - 0.1)*np.exp(-e/T) + 0.1\n",
    "        \n",
    "        while not game_over:\n",
    "            # The agent performs an action\n",
    "            action = agent.act(state)\n",
    "            prev_state = state\n",
    "            state, reward, game_over = env.act(action, train=True)\n",
    "\n",
    "            # Update the counters\n",
    "            if reward > 0:\n",
    "                win = win + reward\n",
    "            if reward < 0:\n",
    "                lose = lose -reward\n",
    "\n",
    "            # reinforce using strategy with the adapted epsilon\n",
    "            agent.set_epsilon(eps)\n",
    "            loss = agent.reinforce(prev_state, state,  action, reward, game_over)\n",
    "            \n",
    "\n",
    "        # Save as a mp4\n",
    "        if (e + 1) % 10 == 0:\n",
    "            env.draw(prefix+str(e+1))\n",
    "\n",
    "        # Update stats\n",
    "        score += win-lose\n",
    "\n",
    "        print(\"Epoch {:03d}/{:03d} | Loss {:.4f} | Win/lose count {:.3f}/{:.3f} ({:.3f}), epsilon {:.3f}\"\n",
    "              .format(e, epoch, loss, win, lose, win-lose, eps))\n",
    "        agent.save(name_weights=prefix+'model.h5',name_model=prefix+'model.json')\n",
    "    \n",
    "        \n",
    "class EnvironmentExploring(object):\n",
    "  \n",
    "    def __init__(self, grid_size=10, max_time=500, temperature=0.1):\n",
    "        grid_size = grid_size+4\n",
    "        self.grid_size = grid_size\n",
    "        self.max_time = max_time\n",
    "        self.temperature = temperature\n",
    "\n",
    "        #board on which one plays\n",
    "        self.board = np.zeros((grid_size,grid_size))\n",
    "        self.position = np.zeros((grid_size,grid_size))\n",
    "        self.malus_position = np.zeros((grid_size,grid_size)) # define malus when re-visiting an already visited position\n",
    "\n",
    "        # coordinate of the cat\n",
    "        self.x = 0\n",
    "        self.y = 1\n",
    "\n",
    "        # self time\n",
    "        self.t = 0\n",
    "\n",
    "        self.scale=16\n",
    "\n",
    "        self.to_draw = np.zeros((max_time+2, grid_size*self.scale, grid_size*self.scale, 3))\n",
    "        \n",
    "        \n",
    "\n",
    "    def draw(self,e):\n",
    "        skvideo.io.vwrite(str(e) + '.mp4', self.to_draw)\n",
    "\n",
    "    def get_frame(self,t):\n",
    "        b = np.zeros((self.grid_size,self.grid_size,3))+128\n",
    "        b[self.board>0,0] = 256\n",
    "        b[self.board < 0, 2] = 256\n",
    "        b[self.x,self.y,:]=256\n",
    "        b[-2:,:,:]=0\n",
    "        b[:,-2:,:]=0\n",
    "        b[:2,:,:]=0\n",
    "        b[:,:2,:]=0\n",
    "        \n",
    "        b =  cv2.resize(b, None, fx=self.scale, fy=self.scale, interpolation=cv2.INTER_NEAREST)\n",
    "\n",
    "        self.to_draw[t,:,:,:]=b\n",
    "\n",
    "\n",
    "\n",
    "    def act(self, action, train = False):\n",
    "        \"\"\"This function returns the new state, reward and decides if the\n",
    "        game ends.\"\"\"\n",
    "\n",
    "        self.get_frame(int(self.t))\n",
    "\n",
    "        self.position = np.zeros((self.grid_size, self.grid_size))\n",
    "\n",
    "        self.position[0:2,:]= -1\n",
    "        self.position[:,0:2] = -1\n",
    "        self.position[-2:, :] = -1\n",
    "        self.position[-2:, :] = -1\n",
    "\n",
    "        self.position[self.x, self.y] = 1\n",
    "        \n",
    "        if action == 0:\n",
    "            if self.x == self.grid_size-3:\n",
    "                self.x = self.x-1\n",
    "            else:\n",
    "                self.x = self.x + 1\n",
    "        elif action == 1:\n",
    "            if self.x == 2:\n",
    "                self.x = self.x+1\n",
    "            else:\n",
    "                self.x = self.x-1\n",
    "        elif action == 2:\n",
    "            if self.y == self.grid_size - 3:\n",
    "                self.y = self.y - 1\n",
    "            else:\n",
    "                self.y = self.y + 1\n",
    "        elif action == 3:\n",
    "            if self.y == 2:\n",
    "                self.y = self.y + 1\n",
    "            else:\n",
    "                self.y = self.y - 1\n",
    "        else:\n",
    "            RuntimeError('Error: action not recognized')\n",
    "\n",
    "        self.t = self.t + 1\n",
    "        reward = 0\n",
    "        is_train = int(train)\n",
    "        \n",
    "        reward = self.board[self.x, self.y] - is_train * self.malus_position[self.x, self.y]\n",
    "        \n",
    "        # penalisation if we re-visit an already visited state : a parameter that we can tune\n",
    "        penalization = 0.1\n",
    "        self.malus_position[self.x, self.y] = penalization\n",
    "        \n",
    "        self.board[self.x, self.y] = 0\n",
    "        game_over = self.t > self.max_time\n",
    "        \n",
    "        state = np.concatenate((self.malus_position.reshape(self.grid_size, self.grid_size,1),\n",
    "                                self.board.reshape(self.grid_size, self.grid_size,1),\n",
    "                                self.position.reshape(self.grid_size, self.grid_size,1)),axis=2)\n",
    "\n",
    "        state = state[self.x - 2:self.x + 3, self.y - 2:self.y + 3, :]\n",
    "\n",
    "        return state, reward, game_over\n",
    "\n",
    "    \n",
    "    def reset(self):\n",
    "        \"\"\"This function resets the game and returns the initial state\"\"\"\n",
    "\n",
    "        self.x = np.random.randint(3, self.grid_size-3, size=1)[0]\n",
    "        self.y = np.random.randint(3, self.grid_size-3, size=1)[0]\n",
    "\n",
    "\n",
    "        bonus = 0.5*np.random.binomial(1,self.temperature,size=self.grid_size**2)\n",
    "        bonus = bonus.reshape(self.grid_size,self.grid_size)\n",
    "\n",
    "        malus = -1.0*np.random.binomial(1,self.temperature,size=self.grid_size**2)\n",
    "        malus = malus.reshape(self.grid_size, self.grid_size)\n",
    "\n",
    "        self.to_draw = np.zeros((self.max_time+2, self.grid_size*self.scale, self.grid_size*self.scale, 3))\n",
    "\n",
    "        malus[bonus>0]=0\n",
    "\n",
    "        self.board = bonus + malus\n",
    "\n",
    "        self.position = np.zeros((self.grid_size, self.grid_size))\n",
    "        self.position[0:2,:]= -1\n",
    "        self.position[:,0:2] = -1\n",
    "        self.position[-2:, :] = -1\n",
    "        self.position[-2:, :] = -1\n",
    "        self.board[self.x,self.y] = 0\n",
    "        self.t = 0\n",
    "        \n",
    "        self.malus_position = np.zeros((self.grid_size, self.grid_size))\n",
    "        penalization = 0.1\n",
    "        self.malus_position[self.x, self.y] = penalization\n",
    "\n",
    "        state = np.concatenate((self.malus_position.reshape(self.grid_size, self.grid_size,1),\n",
    "                                self.board.reshape(self.grid_size, self.grid_size,1),\n",
    "                                self.position.reshape(self.grid_size, self.grid_size,1)),axis=2)\n",
    "\n",
    "        state = state[self.x - 2:self.x + 3, self.y - 2:self.y + 3, :]\n",
    "        return state"
   ]
  },
  {
   "cell_type": "code",
   "execution_count": 107,
   "metadata": {
    "colab": {
     "base_uri": "https://localhost:8080/",
     "height": 1000
    },
    "colab_type": "code",
    "id": "N0h5oA9JY7WZ",
    "outputId": "de4d2a40-0528-47cc-9e5a-bfc96e3a3818"
   },
   "outputs": [
    {
     "name": "stdout",
     "output_type": "stream",
     "text": [
      "Epoch 000/050 | Loss 0.0131 | Win/lose count 13.000/28.900 (-15.900), epsilon 0.900\n",
      "Epoch 001/050 | Loss 0.0093 | Win/lose count 15.500/22.600 (-7.100), epsilon 0.755\n",
      "Epoch 002/050 | Loss 0.0054 | Win/lose count 18.000/17.200 (0.800), epsilon 0.636\n",
      "Epoch 003/050 | Loss 0.0068 | Win/lose count 10.000/20.600 (-10.600), epsilon 0.539\n",
      "Epoch 004/050 | Loss 0.0870 | Win/lose count 8.500/25.400 (-16.900), epsilon 0.459\n",
      "Epoch 005/050 | Loss 0.0488 | Win/lose count 14.000/16.900 (-2.900), epsilon 0.394\n",
      "Epoch 006/050 | Loss 0.0034 | Win/lose count 7.500/21.600 (-14.100), epsilon 0.341\n",
      "Epoch 007/050 | Loss 0.0448 | Win/lose count 11.500/19.900 (-8.400), epsilon 0.297\n",
      "Epoch 008/050 | Loss 0.0101 | Win/lose count 16.000/19.700 (-3.700), epsilon 0.262\n",
      "Epoch 009/050 | Loss 0.0103 | Win/lose count 19.500/20.500 (-1.000), epsilon 0.232\n",
      "Epoch 010/050 | Loss 0.0065 | Win/lose count 12.500/17.500 (-5.000), epsilon 0.208\n",
      "Epoch 011/050 | Loss 0.0098 | Win/lose count 12.000/14.700 (-2.700), epsilon 0.189\n",
      "Epoch 012/050 | Loss 0.0106 | Win/lose count 15.500/15.700 (-0.200), epsilon 0.173\n",
      "Epoch 013/050 | Loss 0.0081 | Win/lose count 18.500/17.400 (1.100), epsilon 0.159\n",
      "Epoch 014/050 | Loss 0.0091 | Win/lose count 16.500/16.000 (0.500), epsilon 0.149\n",
      "Epoch 015/050 | Loss 0.0063 | Win/lose count 27.000/14.400 (12.600), epsilon 0.140\n",
      "Epoch 016/050 | Loss 0.0075 | Win/lose count 17.500/16.700 (0.800), epsilon 0.133\n",
      "Epoch 017/050 | Loss 0.0098 | Win/lose count 25.000/16.200 (8.800), epsilon 0.127\n",
      "Epoch 018/050 | Loss 0.0386 | Win/lose count 25.500/13.400 (12.100), epsilon 0.122\n",
      "Epoch 019/050 | Loss 0.0317 | Win/lose count 17.500/16.500 (1.000), epsilon 0.118\n",
      "Epoch 020/050 | Loss 0.0093 | Win/lose count 20.500/14.500 (6.000), epsilon 0.115\n",
      "Epoch 021/050 | Loss 0.0139 | Win/lose count 16.500/14.300 (2.200), epsilon 0.112\n",
      "Epoch 022/050 | Loss 0.0102 | Win/lose count 17.500/13.800 (3.700), epsilon 0.110\n",
      "Epoch 023/050 | Loss 0.0100 | Win/lose count 10.500/16.600 (-6.100), epsilon 0.108\n",
      "Epoch 024/050 | Loss 0.0085 | Win/lose count 15.500/17.400 (-1.900), epsilon 0.107\n",
      "Epoch 025/050 | Loss 0.0046 | Win/lose count 25.500/11.500 (14.000), epsilon 0.105\n",
      "Epoch 026/050 | Loss 0.0230 | Win/lose count 22.000/13.600 (8.400), epsilon 0.104\n",
      "Epoch 027/050 | Loss 0.0408 | Win/lose count 13.000/15.600 (-2.600), epsilon 0.104\n",
      "Epoch 028/050 | Loss 0.0206 | Win/lose count 7.000/17.800 (-10.800), epsilon 0.103\n",
      "Epoch 029/050 | Loss 0.0068 | Win/lose count 18.000/13.200 (4.800), epsilon 0.102\n",
      "Epoch 030/050 | Loss 0.0101 | Win/lose count 25.000/13.400 (11.600), epsilon 0.102\n",
      "Epoch 031/050 | Loss 0.0153 | Win/lose count 20.500/12.900 (7.600), epsilon 0.102\n",
      "Epoch 032/050 | Loss 0.0118 | Win/lose count 19.500/15.100 (4.400), epsilon 0.101\n",
      "Epoch 033/050 | Loss 0.0418 | Win/lose count 18.000/14.400 (3.600), epsilon 0.101\n",
      "Epoch 034/050 | Loss 0.0086 | Win/lose count 19.000/13.800 (5.200), epsilon 0.101\n",
      "Epoch 035/050 | Loss 0.0135 | Win/lose count 20.000/12.600 (7.400), epsilon 0.101\n",
      "Epoch 036/050 | Loss 0.0058 | Win/lose count 17.500/15.500 (2.000), epsilon 0.101\n",
      "Epoch 037/050 | Loss 0.0046 | Win/lose count 23.500/14.100 (9.400), epsilon 0.100\n",
      "Epoch 038/050 | Loss 0.0092 | Win/lose count 23.500/16.500 (7.000), epsilon 0.100\n",
      "Epoch 039/050 | Loss 0.0500 | Win/lose count 20.000/15.200 (4.800), epsilon 0.100\n",
      "Epoch 040/050 | Loss 0.0051 | Win/lose count 18.000/15.300 (2.700), epsilon 0.100\n",
      "Epoch 041/050 | Loss 0.0107 | Win/lose count 24.000/11.900 (12.100), epsilon 0.100\n",
      "Epoch 042/050 | Loss 0.0271 | Win/lose count 21.000/12.700 (8.300), epsilon 0.100\n",
      "Epoch 043/050 | Loss 0.0113 | Win/lose count 25.000/15.800 (9.200), epsilon 0.100\n",
      "Epoch 044/050 | Loss 0.0295 | Win/lose count 19.000/16.300 (2.700), epsilon 0.100\n",
      "Epoch 045/050 | Loss 0.0180 | Win/lose count 16.000/13.700 (2.300), epsilon 0.100\n",
      "Epoch 046/050 | Loss 0.0400 | Win/lose count 24.500/16.500 (8.000), epsilon 0.100\n",
      "Epoch 047/050 | Loss 0.0119 | Win/lose count 24.000/13.700 (10.300), epsilon 0.100\n",
      "Epoch 048/050 | Loss 0.0134 | Win/lose count 18.500/9.800 (8.700), epsilon 0.100\n",
      "Epoch 049/050 | Loss 0.0136 | Win/lose count 24.000/12.600 (11.400), epsilon 0.100\n"
     ]
    },
    {
     "data": {
      "text/html": [
       "<video alt=\"test\" controls>\n",
       "                <source src=\"data:video/mp4;base64,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\" type=\"video/mp4\" />\n",
       "             </video>"
      ],
      "text/plain": [
       "<IPython.core.display.HTML object>"
      ]
     },
     "execution_count": 107,
     "metadata": {
      "tags": []
     },
     "output_type": "execute_result"
    }
   ],
   "source": [
    "# Training\n",
    "env = EnvironmentExploring(grid_size=size, max_time=T, temperature=0.3)\n",
    "agent = DQN_CNN(size, lr=.1, epsilon = 0.9, memory_size=2000, batch_size = 32, n_state=3)\n",
    "train_explore(agent, env, epochs_train, prefix='cnn_train_explore')\n",
    "HTML(display_videos('cnn_train_explore10.mp4'))"
   ]
  },
  {
   "cell_type": "code",
   "execution_count": 108,
   "metadata": {
    "colab": {
     "base_uri": "https://localhost:8080/",
     "height": 650
    },
    "colab_type": "code",
    "id": "4PaQxzoDY7Wb",
    "outputId": "56eb44fc-dd21-4207-a2b9-68ba6acbcb3c"
   },
   "outputs": [
    {
     "name": "stdout",
     "output_type": "stream",
     "text": [
      "Win/lose count 20.0/2.0. Average score (18.0)\n",
      "Win/lose count 19.5/0.0. Average score (18.75)\n",
      "Win/lose count 9.5/0.0. Average score (15.666666666666666)\n",
      "Win/lose count 5.0/0.0. Average score (13.0)\n",
      "Win/lose count 12.5/1.0. Average score (12.7)\n",
      "Win/lose count 17.0/1.0. Average score (13.25)\n",
      "Win/lose count 13.5/0.0. Average score (13.285714285714286)\n",
      "Win/lose count 25.0/1.0. Average score (14.625)\n",
      "Win/lose count 19.5/0.0. Average score (15.166666666666666)\n",
      "Win/lose count 22.0/1.0. Average score (15.75)\n",
      "Win/lose count 21.0/2.0. Average score (16.045454545454547)\n",
      "Win/lose count 22.0/0.0. Average score (16.541666666666668)\n",
      "Win/lose count 22.0/1.0. Average score (16.884615384615383)\n",
      "Win/lose count 18.0/1.0. Average score (16.892857142857142)\n",
      "Win/lose count 19.0/0.0. Average score (17.033333333333335)\n",
      "Win/lose count 15.5/1.0. Average score (16.875)\n",
      "Win/lose count 18.0/1.0. Average score (16.88235294117647)\n",
      "Win/lose count 20.5/3.0. Average score (16.916666666666668)\n",
      "Win/lose count 9.5/0.0. Average score (16.526315789473685)\n",
      "Win/lose count 21.5/0.0. Average score (16.775)\n",
      "Final score: 16.775\n"
     ]
    },
    {
     "data": {
      "text/html": [
       "<video alt=\"test\" controls>\n",
       "                <source src=\"data:video/mp4;base64,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\" type=\"video/mp4\" />\n",
       "             </video>"
      ],
      "text/plain": [
       "<IPython.core.display.HTML object>"
      ]
     },
     "execution_count": 108,
     "metadata": {
      "tags": []
     },
     "output_type": "execute_result"
    }
   ],
   "source": [
    "# Evaluation\n",
    "test(agent,env,epochs_test,prefix='cnn_test_explore')\n",
    "HTML(display_videos('cnn_test_explore10.mp4'))"
   ]
  },
  {
   "cell_type": "markdown",
   "metadata": {
    "colab_type": "text",
    "id": "8AWT89TrY7Wf"
   },
   "source": [
    "Now we explore more the state space and we use the history of visited state in our approach. \n",
    "\n",
    "After training the model with the same architecture (cnn) and using the same temperature (0.3) as before, we notice that the performance is widely better now than what we get before.  \n",
    "So incorporating a decreasing epsilon-greedy exploration strategy and using the history of visited cells improves clearly the performance of our model. \n"
   ]
  },
  {
   "cell_type": "markdown",
   "metadata": {
    "colab_type": "text",
    "id": "NPhNVbNYY7Wg"
   },
   "source": [
    "***\n",
    "***\n",
    "__BONUS question__ Use the expert DQN from the previous question to generate some winning games. Train a model that mimicks its behavior. Compare the performances."
   ]
  },
  {
   "cell_type": "markdown",
   "metadata": {
    "colab_type": "text",
    "id": "LawsTLISY7Wi"
   },
   "source": []
  },
  {
   "cell_type": "code",
   "execution_count": 0,
   "metadata": {
    "colab": {},
    "colab_type": "code",
    "id": "ZchX85UiHuW6"
   },
   "outputs": [],
   "source": [
    "def mimick_train(expert_agent, mimick_agent, env, epoch, prefix=''):\n",
    "\n",
    "    score = 0\n",
    "    loss = 0\n",
    "\n",
    "    for e in range(epoch):\n",
    "        # At each epoch, we restart to a fresh game and get the initial state\n",
    "        state = env.reset()\n",
    "        # This assumes that the games will terminate\n",
    "        game_over = False\n",
    "\n",
    "        win = 0\n",
    "        lose = 0\n",
    "\n",
    "        while not game_over:\n",
    "            # The expert agent performs an action\n",
    "            action = expert_agent.act(state)\n",
    "\n",
    "            # Apply an action to the environment, get the next state, the reward\n",
    "            # and if the games end\n",
    "            prev_state = state\n",
    "            state, reward, game_over = env.act(action)\n",
    "\n",
    "            # Update the counters\n",
    "            if reward > 0:\n",
    "                win = win + reward\n",
    "            if reward < 0:\n",
    "                lose = lose -reward\n",
    "\n",
    "            # Apply the reinforcement strategy to the mimick agent\n",
    "            loss = mimick_agent.reinforce(prev_state, state,  action, reward, game_over)\n",
    "\n",
    "        # Save as a mp4\n",
    "        if e % 10 == 0:\n",
    "            env.draw(prefix+str(e))\n",
    "            \n",
    "        # Update stats\n",
    "        score += win-lose\n",
    "\n",
    "        print(\"Epoch {:03d}/{:03d} | Loss {:.4f} | Win/lose count {}/{} ({})\"\n",
    "              .format(e, epoch, loss, win, lose, win-lose))\n",
    "        mimic_agent.save(name_weights=prefix+'model.h5',name_model=prefix+'model.json')"
   ]
  },
  {
   "cell_type": "code",
   "execution_count": 131,
   "metadata": {
    "colab": {
     "base_uri": "https://localhost:8080/",
     "height": 867
    },
    "colab_type": "code",
    "id": "9_xAqnu5nYgL",
    "outputId": "9c1faf00-24e1-4492-d81d-7b8c2dcbb920"
   },
   "outputs": [
    {
     "name": "stdout",
     "output_type": "stream",
     "text": [
      "Epoch 000/050 | Loss 0.0594 | Win/lose count 27.0/2.0 (25.0)\n",
      "Epoch 001/050 | Loss 0.0122 | Win/lose count 17.0/6.0 (11.0)\n",
      "Epoch 002/050 | Loss 0.0066 | Win/lose count 22.0/5.0 (17.0)\n",
      "Epoch 003/050 | Loss 0.0020 | Win/lose count 15.5/4.0 (11.5)\n",
      "Epoch 004/050 | Loss 0.0025 | Win/lose count 23.5/4.0 (19.5)\n",
      "Epoch 005/050 | Loss 0.0019 | Win/lose count 16.5/2.0 (14.5)\n",
      "Epoch 006/050 | Loss 0.0059 | Win/lose count 18.5/1.0 (17.5)\n",
      "Epoch 007/050 | Loss 0.0035 | Win/lose count 21.0/4.0 (17.0)\n",
      "Epoch 008/050 | Loss 0.0068 | Win/lose count 23.0/3.0 (20.0)\n",
      "Epoch 009/050 | Loss 0.0116 | Win/lose count 22.5/3.0 (19.5)\n",
      "Epoch 010/050 | Loss 0.0023 | Win/lose count 19.0/3.0 (16.0)\n",
      "Epoch 011/050 | Loss 0.0575 | Win/lose count 14.0/2.0 (12.0)\n",
      "Epoch 012/050 | Loss 0.0083 | Win/lose count 19.5/3.0 (16.5)\n",
      "Epoch 013/050 | Loss 0.0072 | Win/lose count 20.0/3.0 (17.0)\n",
      "Epoch 014/050 | Loss 0.0016 | Win/lose count 24.5/3.0 (21.5)\n",
      "Epoch 015/050 | Loss 0.0033 | Win/lose count 19.0/6.0 (13.0)\n",
      "Epoch 016/050 | Loss 0.0031 | Win/lose count 17.5/3.0 (14.5)\n",
      "Epoch 017/050 | Loss 0.0013 | Win/lose count 22.0/5.0 (17.0)\n",
      "Epoch 018/050 | Loss 0.0016 | Win/lose count 24.0/8.0 (16.0)\n",
      "Epoch 019/050 | Loss 0.0078 | Win/lose count 17.0/4.0 (13.0)\n",
      "Epoch 020/050 | Loss 0.0012 | Win/lose count 15.0/4.0 (11.0)\n",
      "Epoch 021/050 | Loss 0.0024 | Win/lose count 17.5/3.0 (14.5)\n",
      "Epoch 022/050 | Loss 0.0652 | Win/lose count 24.0/4.0 (20.0)\n",
      "Epoch 023/050 | Loss 0.0012 | Win/lose count 24.0/1.0 (23.0)\n",
      "Epoch 024/050 | Loss 0.0046 | Win/lose count 26.5/5.0 (21.5)\n",
      "Epoch 025/050 | Loss 0.0024 | Win/lose count 23.5/4.0 (19.5)\n",
      "Epoch 026/050 | Loss 0.0015 | Win/lose count 19.0/3.0 (16.0)\n",
      "Epoch 027/050 | Loss 0.0033 | Win/lose count 14.0/3.0 (11.0)\n",
      "Epoch 028/050 | Loss 0.0562 | Win/lose count 27.0/7.0 (20.0)\n",
      "Epoch 029/050 | Loss 0.0641 | Win/lose count 24.0/3.0 (21.0)\n",
      "Epoch 030/050 | Loss 0.0026 | Win/lose count 19.5/5.0 (14.5)\n",
      "Epoch 031/050 | Loss 0.0021 | Win/lose count 20.5/6.0 (14.5)\n",
      "Epoch 032/050 | Loss 0.0011 | Win/lose count 18.5/4.0 (14.5)\n",
      "Epoch 033/050 | Loss 0.0622 | Win/lose count 20.5/5.0 (15.5)\n",
      "Epoch 034/050 | Loss 0.0012 | Win/lose count 17.5/2.0 (15.5)\n",
      "Epoch 035/050 | Loss 0.0016 | Win/lose count 24.0/5.0 (19.0)\n",
      "Epoch 036/050 | Loss 0.0009 | Win/lose count 11.0/5.0 (6.0)\n",
      "Epoch 037/050 | Loss 0.0017 | Win/lose count 19.0/3.0 (16.0)\n",
      "Epoch 038/050 | Loss 0.0035 | Win/lose count 21.0/6.0 (15.0)\n",
      "Epoch 039/050 | Loss 0.0029 | Win/lose count 18.0/0 (18.0)\n",
      "Epoch 040/050 | Loss 0.0015 | Win/lose count 19.0/3.0 (16.0)\n",
      "Epoch 041/050 | Loss 0.0019 | Win/lose count 25.0/6.0 (19.0)\n",
      "Epoch 042/050 | Loss 0.0009 | Win/lose count 26.5/2.0 (24.5)\n",
      "Epoch 043/050 | Loss 0.0015 | Win/lose count 26.0/3.0 (23.0)\n",
      "Epoch 044/050 | Loss 0.0025 | Win/lose count 26.0/4.0 (22.0)\n",
      "Epoch 045/050 | Loss 0.0010 | Win/lose count 21.0/6.0 (15.0)\n",
      "Epoch 046/050 | Loss 0.0014 | Win/lose count 25.0/6.0 (19.0)\n",
      "Epoch 047/050 | Loss 0.0016 | Win/lose count 16.0/10.0 (6.0)\n",
      "Epoch 048/050 | Loss 0.0026 | Win/lose count 16.0/4.0 (12.0)\n",
      "Epoch 049/050 | Loss 0.0555 | Win/lose count 19.5/3.0 (16.5)\n"
     ]
    }
   ],
   "source": [
    "expert_DQN = agent\n",
    "env = EnvironmentExploring(grid_size=size, max_time=T, temperature=0.3)\n",
    "cnn_agent = DQN_CNN(size, lr=.1, epsilon = 0.1, memory_size=2000, batch_size = 32, n_state=3)\n",
    "mimick_train(expert_DQN, cnn_agent, env, epoch=50, prefix='cnn_train_mimick')"
   ]
  },
  {
   "cell_type": "code",
   "execution_count": 136,
   "metadata": {
    "colab": {
     "base_uri": "https://localhost:8080/",
     "height": 650
    },
    "colab_type": "code",
    "id": "CEuIfuGUu1uR",
    "outputId": "ae2df0e2-c6ec-4785-f868-295107cbc688"
   },
   "outputs": [
    {
     "name": "stdout",
     "output_type": "stream",
     "text": [
      "Win/lose count 1.0/0.0. Average score (1.0)\n",
      "Win/lose count 2.0/0.0. Average score (1.5)\n",
      "Win/lose count 1.5/0.0. Average score (1.5)\n",
      "Win/lose count 1.0/0.0. Average score (1.375)\n",
      "Win/lose count 1.0/0.0. Average score (1.3)\n",
      "Win/lose count 2.5/0.0. Average score (1.5)\n",
      "Win/lose count 2.0/0.0. Average score (1.5714285714285714)\n",
      "Win/lose count 4.0/0.0. Average score (1.875)\n",
      "Win/lose count 2.0/0.0. Average score (1.8888888888888888)\n",
      "Win/lose count 4.0/0.0. Average score (2.1)\n",
      "Win/lose count 4.0/0.0. Average score (2.272727272727273)\n",
      "Win/lose count 2.5/0.0. Average score (2.2916666666666665)\n",
      "Win/lose count 0/0.0. Average score (2.1153846153846154)\n",
      "Win/lose count 2.0/0.0. Average score (2.107142857142857)\n",
      "Win/lose count 2.0/0.0. Average score (2.1)\n",
      "Win/lose count 5.0/0.0. Average score (2.28125)\n",
      "Win/lose count 5.0/0.0. Average score (2.4411764705882355)\n",
      "Win/lose count 4.0/0.0. Average score (2.5277777777777777)\n",
      "Win/lose count 3.0/0.0. Average score (2.5526315789473686)\n",
      "Win/lose count 3.5/1.0. Average score (2.55)\n",
      "Final score: 2.55\n"
     ]
    },
    {
     "data": {
      "text/html": [
       "<video alt=\"test\" controls>\n",
       "                <source src=\"data:video/mp4;base64,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\" type=\"video/mp4\" />\n",
       "             </video>"
      ],
      "text/plain": [
       "<IPython.core.display.HTML object>"
      ]
     },
     "execution_count": 136,
     "metadata": {
      "tags": []
     },
     "output_type": "execute_result"
    }
   ],
   "source": [
    "test(cnn_agent,env,epochs_test,prefix='cnn_test_mimicke')\n",
    "HTML(display_videos('cnn_test_mimicke10.mp4'))"
   ]
  },
  {
   "cell_type": "markdown",
   "metadata": {
    "colab_type": "text",
    "id": "5LEQJEDpxbbu"
   },
   "source": [
    "I think that I fail to implement the model with DQN expert as the results are not very satisfying in comparison to the very good performance we achieved previously. "
   ]
  }
 ],
 "metadata": {
  "colab": {
   "collapsed_sections": [],
   "name": "DQN_project_MVA.ipynb",
   "provenance": []
  },
  "kernelspec": {
   "display_name": "Python 3",
   "language": "python",
   "name": "python3"
  },
  "language_info": {
   "codemirror_mode": {
    "name": "ipython",
    "version": 3
   },
   "file_extension": ".py",
   "mimetype": "text/x-python",
   "name": "python",
   "nbconvert_exporter": "python",
   "pygments_lexer": "ipython3",
   "version": "3.7.3"
  }
 },
 "nbformat": 4,
 "nbformat_minor": 1
}
